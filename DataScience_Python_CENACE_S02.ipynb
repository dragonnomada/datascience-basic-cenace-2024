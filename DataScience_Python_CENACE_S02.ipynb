{
  "nbformat": 4,
  "nbformat_minor": 0,
  "metadata": {
    "colab": {
      "provenance": []
    },
    "kernelspec": {
      "name": "python3",
      "display_name": "Python 3"
    },
    "language_info": {
      "name": "python"
    }
  },
  "cells": [
    {
      "cell_type": "markdown",
      "source": [
        "# S02 - Análisis de Ejes 1D y 2D"
      ],
      "metadata": {
        "id": "pApj4rRVV3pq"
      }
    },
    {
      "cell_type": "markdown",
      "source": [
        "## Contenido\n",
        "\n",
        "**201** - Arreglos N-Dimensionales de Numpy (Vectores y Matrices)\n",
        "\n",
        "**202** - Series de Pandas (Ejes de datos)\n",
        "\n",
        "**203** - DataFrames de Pandas (Tablas de datos)"
      ],
      "metadata": {
        "id": "LKmq-V0bWZ71"
      }
    },
    {
      "cell_type": "markdown",
      "source": [
        "## **201** - Arregos N-Dimensionas de Numpy (Vectores y Matrices)"
      ],
      "metadata": {
        "id": "qMAnsGc9W9tx"
      }
    },
    {
      "cell_type": "markdown",
      "source": [
        "Un **vector** es un conjunto de valores que representan un eje de datos, una serie de datos o un conjunto de datos.\n",
        "\n",
        "*Eje de datos* - Es un conjunto de datos relacionados entre sí bajo un argumento, por ejemplo, las edades de las personas.\n",
        "\n",
        "*Serie de datos* - Es un eje de datos que contiene además una relación de orden y los datos se encuentran ordenados o en una relación secuencial, por ejemplo, las mediciones de temperatura en un reactor que se hacen cada 5 minutos.\n",
        "\n",
        "*Conjunto de datos* - Es una colección de datos sin relaciones marcadas, por ejemplo, mediciones sin especificar de qué son."
      ],
      "metadata": {
        "id": "V6inqnN0XGlj"
      }
    },
    {
      "cell_type": "markdown",
      "source": [
        "**Numpy** es una librería de *Python* que nos permite crear objetos llamados *\"arreglos n-dimensionales\"* para almacenar un conjunto de datos similar a un vector, a una matriz o a un tensor.\n",
        "\n",
        "*Referecia*: [https://numpy.org/](https://numpy.org/)"
      ],
      "metadata": {
        "id": "bb_1dWLSYCPT"
      }
    },
    {
      "cell_type": "markdown",
      "source": [
        "> Para usar `numpy` debemos importar la librería, que generalmente se hace usando una importación con *alias* (sobrenombre) para identificar a `numpy` dentro del código como `np`."
      ],
      "metadata": {
        "id": "KtCA-x-AYRk1"
      }
    },
    {
      "cell_type": "code",
      "execution_count": 1,
      "metadata": {
        "id": "DBhNK84vV2jC"
      },
      "outputs": [],
      "source": [
        "import numpy as np"
      ]
    },
    {
      "cell_type": "markdown",
      "source": [
        "**NOTA:** Si la librería no es reconocida por *python* debemos instalarla abriendo una terminal o símbolo del sistema y escribiendo:\n",
        "\n",
        "```bash\n",
        "pip install numpy\n",
        "```\n",
        "\n",
        "Dentro de Google Colab ya está instalada, pero se puede reinstalar mediante una celda que contenga:\n",
        "\n",
        "```bash\n",
        "! pip install numpy\n",
        "```\n",
        "\n",
        "Con un signo de exclamación antes del comando `pip install numpy`"
      ],
      "metadata": {
        "id": "Xf3oYjnoYlry"
      }
    },
    {
      "cell_type": "markdown",
      "source": [
        "### Ejemplo 201.1 - Crear un arreglo que contenga 10 calificaciones"
      ],
      "metadata": {
        "id": "4bt90HkMZBbp"
      }
    },
    {
      "cell_type": "code",
      "source": [
        "# Opcional si ya se importó arriba\n",
        "import numpy as np\n",
        "\n",
        "# Observa que el arreglo de Numpy se crea a través de la función np.array(...)\n",
        "# la cual recibe la lista de valores que contendrá el arreglo\n",
        "# - Lista de Python: [8, 6, 7.5, 9, 10, 5, 7, 8, 9, 10]\n",
        "# - Arreglo de Numpy: np.array([8, 6, 7.5, 9, 10, 5, 7, 8, 9, 10])\n",
        "calificaciones = np.array([8, 6, 7.5, 9, 10, 5, 7, 8, 9, 10])\n",
        "\n",
        "# El último valor de la celda será mostrado mediante `print(...)`\n",
        "# por lo que no hay necesidad de usar `print(type(calificaciones))`\n",
        "type(calificaciones) # Observamos el tipo de dato de calificaciones\n",
        "                     # que es un arreglo de Numpy (numpy.ndarray)\n",
        "                     # es decir, un arreglo n-dimensional"
      ],
      "metadata": {
        "colab": {
          "base_uri": "https://localhost:8080/"
        },
        "id": "gaLzK57NZRDe",
        "outputId": "aa137925-bf69-4ff1-e832-a1e2dbbe2c57"
      },
      "execution_count": 2,
      "outputs": [
        {
          "output_type": "execute_result",
          "data": {
            "text/plain": [
              "numpy.ndarray"
            ]
          },
          "metadata": {},
          "execution_count": 2
        }
      ]
    },
    {
      "cell_type": "markdown",
      "source": [
        "### Ejemplo 201.2 - Un arreglo que contiene 20 edades de personas"
      ],
      "metadata": {
        "id": "7q61pX8CaREI"
      }
    },
    {
      "cell_type": "code",
      "source": [
        "import numpy as np # opcional si ya se importó\n",
        "\n",
        "# Observa que la lista de python puede ser descrita en múltiples líneas\n",
        "edades = np.array([\n",
        "    18, 54, 23, 32, 43,\n",
        "    34, 55, 64, 67, 76,\n",
        "    46, 19, 91, 23, 12,\n",
        "    21, 18, 19, 20, 22,\n",
        "])\n",
        "\n",
        "edades # mostrar el arreglo como resultado de la celda"
      ],
      "metadata": {
        "colab": {
          "base_uri": "https://localhost:8080/"
        },
        "id": "9ZrpBWVBaRtO",
        "outputId": "b1b1a039-0373-4904-eb9a-7cf92e580c73"
      },
      "execution_count": 3,
      "outputs": [
        {
          "output_type": "execute_result",
          "data": {
            "text/plain": [
              "array([18, 54, 23, 32, 43, 34, 55, 64, 67, 76, 46, 19, 91, 23, 12, 21, 18,\n",
              "       19, 20, 22])"
            ]
          },
          "metadata": {},
          "execution_count": 3
        }
      ]
    },
    {
      "cell_type": "markdown",
      "source": [
        "Los arreglos de Numpy contienen propiedades y métodos especiales para simplificar algunos resultados.\n",
        "\n",
        "`<array>.ndim` - Devuelve la dimensión del arreglo\n",
        "\n",
        "    1 - Vectores 1D (6) -  `<1 2 3 4 5 6>`\n",
        "    2 - Matrices 2D (2, 3) 2x3=6 - `[ <1 2 3> <4 5 6> ]`\n",
        "    d - Matrices multidimensionales 3D (2, 2, 3) 2x2x3=12 - `{ [ <1 2 3> <4 5 6> ] [ <7 8 9> <10 11 12> ] }`\n",
        "\n",
        "`<array>.shape` - Devuelve la tupla con las profundidades en cada dimensión\n",
        "\n",
        "    1 - (n,)\n",
        "    2 - (m, n)\n",
        "    d - (nd, nd-1, ..., n2, n1)"
      ],
      "metadata": {
        "id": "92F1j19Sa8-Q"
      }
    },
    {
      "cell_type": "code",
      "source": [
        "# Dimensión del arreglo (1 - vector)\n",
        "edades.ndim"
      ],
      "metadata": {
        "colab": {
          "base_uri": "https://localhost:8080/"
        },
        "id": "YFka1JVya8eo",
        "outputId": "4b470830-0bee-4951-bb99-a3482a697354"
      },
      "execution_count": 6,
      "outputs": [
        {
          "output_type": "execute_result",
          "data": {
            "text/plain": [
              "1"
            ]
          },
          "metadata": {},
          "execution_count": 6
        }
      ]
    },
    {
      "cell_type": "code",
      "source": [
        "# Profundidad del arreglo (n, )\n",
        "edades.shape"
      ],
      "metadata": {
        "colab": {
          "base_uri": "https://localhost:8080/"
        },
        "id": "B6zaYj6xcRpP",
        "outputId": "f54a0835-ed62-408d-b343-dceb7677dd4f"
      },
      "execution_count": 7,
      "outputs": [
        {
          "output_type": "execute_result",
          "data": {
            "text/plain": [
              "(20,)"
            ]
          },
          "metadata": {},
          "execution_count": 7
        }
      ]
    },
    {
      "cell_type": "markdown",
      "source": [
        "Los arreglos de Numpy también pueden devolver algunos estadísticos fundamentales como parte de sus métodos internos\n",
        "\n",
        "    `<array>.min()`  - Mínimo\n",
        "    `<array>.max()`  - Máximo\n",
        "    `<array>.sum()`  - Suma\n",
        "    `<array>.mean()` - Promedio\n",
        "    `<array>.var()`  - Desviación Estándar\n",
        "    `<array>.std()`  - Varianza"
      ],
      "metadata": {
        "id": "9pnRF3-Pcf9c"
      }
    },
    {
      "cell_type": "code",
      "source": [
        "edades.min()"
      ],
      "metadata": {
        "colab": {
          "base_uri": "https://localhost:8080/"
        },
        "id": "GEjW4TIbcwzz",
        "outputId": "59662e63-2796-4689-da73-8bd570fcd6c5"
      },
      "execution_count": 12,
      "outputs": [
        {
          "output_type": "execute_result",
          "data": {
            "text/plain": [
              "12"
            ]
          },
          "metadata": {},
          "execution_count": 12
        }
      ]
    },
    {
      "cell_type": "code",
      "source": [
        "edades.max()"
      ],
      "metadata": {
        "colab": {
          "base_uri": "https://localhost:8080/"
        },
        "id": "29CwpcYKcyIA",
        "outputId": "8bb20b13-c97a-4f82-84e3-6d1f1cb24833"
      },
      "execution_count": 13,
      "outputs": [
        {
          "output_type": "execute_result",
          "data": {
            "text/plain": [
              "91"
            ]
          },
          "metadata": {},
          "execution_count": 13
        }
      ]
    },
    {
      "cell_type": "code",
      "source": [
        "edades.sum()"
      ],
      "metadata": {
        "colab": {
          "base_uri": "https://localhost:8080/"
        },
        "id": "3N5HSqCpcd_Q",
        "outputId": "1d0eec6c-f181-478b-ae05-cb2e096ab0eb"
      },
      "execution_count": 8,
      "outputs": [
        {
          "output_type": "execute_result",
          "data": {
            "text/plain": [
              "757"
            ]
          },
          "metadata": {},
          "execution_count": 8
        }
      ]
    },
    {
      "cell_type": "code",
      "source": [
        "edades.mean()"
      ],
      "metadata": {
        "colab": {
          "base_uri": "https://localhost:8080/"
        },
        "id": "0HdxUUvtcriD",
        "outputId": "ac90aee8-9627-4ede-e922-414b10c89054"
      },
      "execution_count": 9,
      "outputs": [
        {
          "output_type": "execute_result",
          "data": {
            "text/plain": [
              "37.85"
            ]
          },
          "metadata": {},
          "execution_count": 9
        }
      ]
    },
    {
      "cell_type": "code",
      "source": [
        "edades.var()"
      ],
      "metadata": {
        "colab": {
          "base_uri": "https://localhost:8080/"
        },
        "id": "6v4ulsc8cugG",
        "outputId": "fbdf7d39-4cab-4269-bc29-4ed0f05954be"
      },
      "execution_count": 11,
      "outputs": [
        {
          "output_type": "execute_result",
          "data": {
            "text/plain": [
              "498.62749999999994"
            ]
          },
          "metadata": {},
          "execution_count": 11
        }
      ]
    },
    {
      "cell_type": "code",
      "source": [
        "edades.std()"
      ],
      "metadata": {
        "colab": {
          "base_uri": "https://localhost:8080/"
        },
        "id": "6kXO4crdcs_I",
        "outputId": "38e21e16-96be-477d-d0ad-0147f6e0cd51"
      },
      "execution_count": 10,
      "outputs": [
        {
          "output_type": "execute_result",
          "data": {
            "text/plain": [
              "22.329968652015612"
            ]
          },
          "metadata": {},
          "execution_count": 10
        }
      ]
    },
    {
      "cell_type": "markdown",
      "source": [
        "Una **matriz** es un conjunto de valores ordenados sobre 2 dimensiones, podemos pensar la matriz como la unión de vectores fila o la unión de vectores columna. Por ejemplo, un vector fila puede representar el contenido una fila de datos, por ejemplo, la edad, la estatura y el peso: `<34 años 1.72 metros 74 kilogramos> => <34 1.72 74>`. O podemos visualizar un vector columna como una columna de datos, por ejemplo, unicamente las edades: `<34 años 28 años 14 años 17 años 16 años 23 años> => <34 28 14 17 16 23>`.\n",
        "\n",
        "Por lo que la matriz sería la unión de vectores fila o vectores columna\n",
        "\n",
        "    [\n",
        "      < 34 1.72 74 >\n",
        "      < 28 1.64 65 >\n",
        "      < 14 1.45 56 >\n",
        "      < 17 1.56 72 >\n",
        "      < 16 1.63 65 >\n",
        "      < 23 1.81 49 >\n",
        "    ]\n",
        "\n",
        "    [\n",
        "         ^     ^     ^\n",
        "       | 34 | 1.72 | 74 |\n",
        "       | 28 | 1.64 | 65 |\n",
        "       | 14 | 1.45 | 56 |\n",
        "       | 17 | 1.56 | 72 |\n",
        "       | 16 | 1.63 | 65 |\n",
        "       | 23 | 1.81 | 49 |\n",
        "         v     v     v\n",
        "    ]"
      ],
      "metadata": {
        "id": "Ly0-XtuidY3y"
      }
    },
    {
      "cell_type": "markdown",
      "source": [
        "En **Numpy** las matrices se forman mediante listas de listas en el arreglo."
      ],
      "metadata": {
        "id": "LQQc33spi8iz"
      }
    },
    {
      "cell_type": "code",
      "source": [
        "import numpy as np\n",
        "\n",
        "A = np.array([\n",
        "    [1, 2, 3],\n",
        "    [4, 5, 6],\n",
        "])\n",
        "\n",
        "A"
      ],
      "metadata": {
        "colab": {
          "base_uri": "https://localhost:8080/"
        },
        "id": "N3GUuBXFi5DI",
        "outputId": "d017a485-3463-4398-ce75-731e469f3b64"
      },
      "execution_count": 17,
      "outputs": [
        {
          "output_type": "execute_result",
          "data": {
            "text/plain": [
              "array([[1, 2, 3],\n",
              "       [4, 5, 6]])"
            ]
          },
          "metadata": {},
          "execution_count": 17
        }
      ]
    },
    {
      "cell_type": "code",
      "source": [
        "A.ndim"
      ],
      "metadata": {
        "colab": {
          "base_uri": "https://localhost:8080/"
        },
        "id": "dFgtkDlWddgq",
        "outputId": "85234026-ed89-4ec8-eb22-2f02c706354e"
      },
      "execution_count": 18,
      "outputs": [
        {
          "output_type": "execute_result",
          "data": {
            "text/plain": [
              "2"
            ]
          },
          "metadata": {},
          "execution_count": 18
        }
      ]
    },
    {
      "cell_type": "code",
      "source": [
        "A.shape # (2, 3) Matriz de 2x3"
      ],
      "metadata": {
        "colab": {
          "base_uri": "https://localhost:8080/"
        },
        "id": "60B-4OI0jNbl",
        "outputId": "fedee2cf-2121-4a1d-ddb2-2314301882bc"
      },
      "execution_count": 19,
      "outputs": [
        {
          "output_type": "execute_result",
          "data": {
            "text/plain": [
              "(2, 3)"
            ]
          },
          "metadata": {},
          "execution_count": 19
        }
      ]
    },
    {
      "cell_type": "markdown",
      "source": [
        "Las matrices también tienen los estadísticos fundamentales, pero aplicados a todas las filas y columnas"
      ],
      "metadata": {
        "id": "UtZK_p5JjY--"
      }
    },
    {
      "cell_type": "code",
      "source": [
        "A.sum()"
      ],
      "metadata": {
        "colab": {
          "base_uri": "https://localhost:8080/"
        },
        "id": "Oc-DTxFbjYc0",
        "outputId": "15b985b0-e6c2-46e4-f312-bdf2ac483200"
      },
      "execution_count": 20,
      "outputs": [
        {
          "output_type": "execute_result",
          "data": {
            "text/plain": [
              "21"
            ]
          },
          "metadata": {},
          "execution_count": 20
        }
      ]
    },
    {
      "cell_type": "code",
      "source": [
        "A.mean()"
      ],
      "metadata": {
        "colab": {
          "base_uri": "https://localhost:8080/"
        },
        "id": "PUWwBljDjhCg",
        "outputId": "273e8720-46d9-42ef-94b5-712aef26d8b7"
      },
      "execution_count": 21,
      "outputs": [
        {
          "output_type": "execute_result",
          "data": {
            "text/plain": [
              "3.5"
            ]
          },
          "metadata": {},
          "execution_count": 21
        }
      ]
    },
    {
      "cell_type": "code",
      "source": [
        "A.min()"
      ],
      "metadata": {
        "colab": {
          "base_uri": "https://localhost:8080/"
        },
        "id": "gX_lasi4jjBR",
        "outputId": "be47252f-1e67-4b51-e491-47b15ea3b230"
      },
      "execution_count": 22,
      "outputs": [
        {
          "output_type": "execute_result",
          "data": {
            "text/plain": [
              "1"
            ]
          },
          "metadata": {},
          "execution_count": 22
        }
      ]
    },
    {
      "cell_type": "code",
      "source": [
        "A.max()"
      ],
      "metadata": {
        "colab": {
          "base_uri": "https://localhost:8080/"
        },
        "id": "GXmyEJWajkWs",
        "outputId": "41e43342-f5bd-4495-bc0b-9cf5be8425a4"
      },
      "execution_count": 23,
      "outputs": [
        {
          "output_type": "execute_result",
          "data": {
            "text/plain": [
              "6"
            ]
          },
          "metadata": {},
          "execution_count": 23
        }
      ]
    },
    {
      "cell_type": "code",
      "source": [
        "A.std()"
      ],
      "metadata": {
        "colab": {
          "base_uri": "https://localhost:8080/"
        },
        "id": "wI-2zuVbjlbm",
        "outputId": "d6c55ee2-3e0d-4eda-a9d7-c41459080d40"
      },
      "execution_count": 24,
      "outputs": [
        {
          "output_type": "execute_result",
          "data": {
            "text/plain": [
              "1.707825127659933"
            ]
          },
          "metadata": {},
          "execution_count": 24
        }
      ]
    },
    {
      "cell_type": "code",
      "source": [
        "A.var()"
      ],
      "metadata": {
        "colab": {
          "base_uri": "https://localhost:8080/"
        },
        "id": "Q54o9kgPjnKj",
        "outputId": "15dd9067-cbfd-497a-f14a-afed56cacde3"
      },
      "execution_count": 25,
      "outputs": [
        {
          "output_type": "execute_result",
          "data": {
            "text/plain": [
              "2.9166666666666665"
            ]
          },
          "metadata": {},
          "execution_count": 25
        }
      ]
    },
    {
      "cell_type": "markdown",
      "source": [
        "### Ejemplo 201.3 - Matriz de coeficientes para el siguiente problema\n",
        "\n",
        "Tenemos las siguientes ecuaciones lineales:\n",
        "\n",
        "    3x + 2y = 5\n",
        "    6x - 4y = 3"
      ],
      "metadata": {
        "id": "cAMDiLjRjpZL"
      }
    },
    {
      "cell_type": "code",
      "source": [
        "import numpy as np\n",
        "\n",
        "A = np.array([\n",
        "    [3, 2],\n",
        "    [6, -4]\n",
        "])\n",
        "\n",
        "A"
      ],
      "metadata": {
        "colab": {
          "base_uri": "https://localhost:8080/"
        },
        "id": "PHhn3keQjpBO",
        "outputId": "524cf314-3463-47a2-918e-ac8e76abc37e"
      },
      "execution_count": 26,
      "outputs": [
        {
          "output_type": "execute_result",
          "data": {
            "text/plain": [
              "array([[ 3,  2],\n",
              "       [ 6, -4]])"
            ]
          },
          "metadata": {},
          "execution_count": 26
        }
      ]
    },
    {
      "cell_type": "markdown",
      "source": [
        "La matriz transpuesta invierte las filas en columnas o al revés."
      ],
      "metadata": {
        "id": "9K6CZQa-kS_b"
      }
    },
    {
      "cell_type": "code",
      "source": [
        "A.T # Matriz transpuesta"
      ],
      "metadata": {
        "colab": {
          "base_uri": "https://localhost:8080/"
        },
        "id": "nCP8Qr6_kQeg",
        "outputId": "da698fa2-ad07-47b7-8aeb-0d553fe89cf0"
      },
      "execution_count": 27,
      "outputs": [
        {
          "output_type": "execute_result",
          "data": {
            "text/plain": [
              "array([[ 3,  6],\n",
              "       [ 2, -4]])"
            ]
          },
          "metadata": {},
          "execution_count": 27
        }
      ]
    },
    {
      "cell_type": "markdown",
      "source": [
        "Podemos usar `np.invert(<matriz>)` para obtener la matriz inversa"
      ],
      "metadata": {
        "id": "HbWxW7cMkmog"
      }
    },
    {
      "cell_type": "code",
      "source": [
        "np.invert(A)"
      ],
      "metadata": {
        "colab": {
          "base_uri": "https://localhost:8080/"
        },
        "id": "phQlpzMGkaOc",
        "outputId": "294550eb-356e-402b-971b-55c08243e620"
      },
      "execution_count": 30,
      "outputs": [
        {
          "output_type": "execute_result",
          "data": {
            "text/plain": [
              "array([[-4, -3],\n",
              "       [-7,  3]])"
            ]
          },
          "metadata": {},
          "execution_count": 30
        }
      ]
    },
    {
      "cell_type": "markdown",
      "source": [
        "El determinante de una matriz es un valor calculado a partir del grado de independicia, si es 0 significa que dos o más filas son dependientes entre sí."
      ],
      "metadata": {
        "id": "_BdDPjECk02E"
      }
    },
    {
      "cell_type": "code",
      "source": [
        "np.linalg.det(A)"
      ],
      "metadata": {
        "colab": {
          "base_uri": "https://localhost:8080/"
        },
        "id": "W2pf3p9ykmQN",
        "outputId": "055deb6e-fff8-48dc-abe2-a4cd0a099774"
      },
      "execution_count": 31,
      "outputs": [
        {
          "output_type": "execute_result",
          "data": {
            "text/plain": [
              "-23.999999999999993"
            ]
          },
          "metadata": {},
          "execution_count": 31
        }
      ]
    },
    {
      "cell_type": "markdown",
      "source": [
        "### Ejemplo 201.4 - Resolver un sistema de ecuaciones lineales\n",
        "\n",
        "Podemos construir un sistema de ecuaciones a partir de la problemática de encontrar los valores ocultos de variables, por ejemplo, cuando tenemos información suficiente para establecer un sistema de ecuaciones.\n",
        "\n",
        "Por ejemplo, dos paletas más un chocolate cuestán $26 pesos y tres chocolates más 10 paletas cuestan $98 pesos.\n",
        "\n",
        "Podemos representar este problema como un sistema de ecuaciones (dos ecuaciones con dos incógnitas).\n",
        "\n",
        "    2p + 1c = $26\n",
        "    10p + 3c = $98\n",
        "\n",
        "Mediante un sistema de ecuanciones con la matriz de coeficientes, el vector de incógnitas y el vector de valores resultantes podemos resolver la ecuación de la forma $A x = b$\n",
        "\n",
        "        A      x       b\n",
        "    | 2  1 | | p | = | 26 |\n",
        "    | 10 3 | | c |   | 98 |\n",
        "\n",
        "La solución al problema es encontrar los valores del vector de incógnitas (el valor de $p$ y $c$) que representan los valores desconocidos para el costo de la paleta y el chocolate.\n",
        "\n",
        "Podemos usar la ecuación lineal despejata de $x = A^{-1} b$ donde $A^{-1}$ es la matriz inversa de $A$."
      ],
      "metadata": {
        "id": "lGfoV2W7lBde"
      }
    },
    {
      "cell_type": "code",
      "source": [
        "import numpy as np\n",
        "\n",
        "A = np.array([\n",
        "    [2, 1],\n",
        "    [10, 3],\n",
        "])\n",
        "\n",
        "b = np.array([26, 98])\n",
        "\n",
        "x = np.linalg.inv(A).dot(b)\n",
        "\n",
        "x # x = (p, c) => p = $5 | c = $16"
      ],
      "metadata": {
        "colab": {
          "base_uri": "https://localhost:8080/"
        },
        "id": "ak5-XpYSmrTw",
        "outputId": "280e9479-20cb-4eb1-94c1-810f65cf856b"
      },
      "execution_count": 32,
      "outputs": [
        {
          "output_type": "execute_result",
          "data": {
            "text/plain": [
              "array([ 5., 16.])"
            ]
          },
          "metadata": {},
          "execution_count": 32
        }
      ]
    },
    {
      "cell_type": "markdown",
      "source": [
        "Podemos extraer los vectores fila y los vectores columna a partir de una matriz mediante sus índices."
      ],
      "metadata": {
        "id": "pOpbzatbnQe-"
      }
    },
    {
      "cell_type": "code",
      "source": [
        "A"
      ],
      "metadata": {
        "colab": {
          "base_uri": "https://localhost:8080/"
        },
        "id": "CbOvcdPenVRZ",
        "outputId": "ed8f4bf1-3bc8-4c6e-db65-7dfe1d8d3847"
      },
      "execution_count": 33,
      "outputs": [
        {
          "output_type": "execute_result",
          "data": {
            "text/plain": [
              "array([[ 2,  1],\n",
              "       [10,  3]])"
            ]
          },
          "metadata": {},
          "execution_count": 33
        }
      ]
    },
    {
      "cell_type": "code",
      "source": [
        "A[0,:] # Fila 0 | Columnas : (todas)"
      ],
      "metadata": {
        "colab": {
          "base_uri": "https://localhost:8080/"
        },
        "id": "ZV5dc9drnXrn",
        "outputId": "68ede030-7b13-4974-cfe1-22642944865c"
      },
      "execution_count": 34,
      "outputs": [
        {
          "output_type": "execute_result",
          "data": {
            "text/plain": [
              "array([2, 1])"
            ]
          },
          "metadata": {},
          "execution_count": 34
        }
      ]
    },
    {
      "cell_type": "code",
      "source": [
        "A[1, :] # Fila 1 | Columnas : (todas)"
      ],
      "metadata": {
        "colab": {
          "base_uri": "https://localhost:8080/"
        },
        "id": "4AhcOeLLngPS",
        "outputId": "eb84f93b-bbe9-4053-dd30-38346b410be0"
      },
      "execution_count": 35,
      "outputs": [
        {
          "output_type": "execute_result",
          "data": {
            "text/plain": [
              "array([10,  3])"
            ]
          },
          "metadata": {},
          "execution_count": 35
        }
      ]
    },
    {
      "cell_type": "code",
      "source": [
        "A[:, 0] # Filas : (todas) | Columna 0"
      ],
      "metadata": {
        "colab": {
          "base_uri": "https://localhost:8080/"
        },
        "id": "ZX8-T7QAnldT",
        "outputId": "e5650e8a-50ab-44b2-8cc3-e8ab5a49678b"
      },
      "execution_count": 36,
      "outputs": [
        {
          "output_type": "execute_result",
          "data": {
            "text/plain": [
              "array([ 2, 10])"
            ]
          },
          "metadata": {},
          "execution_count": 36
        }
      ]
    },
    {
      "cell_type": "code",
      "source": [
        "A[:, 1] # Filas : (todas) | Columna 1"
      ],
      "metadata": {
        "colab": {
          "base_uri": "https://localhost:8080/"
        },
        "id": "ZCvDmLfPntwl",
        "outputId": "23dc3c14-81ce-4095-cdea-991809f81dfb"
      },
      "execution_count": 37,
      "outputs": [
        {
          "output_type": "execute_result",
          "data": {
            "text/plain": [
              "array([1, 3])"
            ]
          },
          "metadata": {},
          "execution_count": 37
        }
      ]
    },
    {
      "cell_type": "markdown",
      "source": [
        "### Ejemplo 201.5 - Extraer los valores en una matriz que representa una imagen de un dígito escrito a mano"
      ],
      "metadata": {
        "id": "YOgw_LDgnz_B"
      }
    },
    {
      "cell_type": "code",
      "source": [
        "# @title Texto de título predeterminado\n",
        "import numpy as np\n",
        "\n",
        "D1 = np.array([\n",
        "    [0, 0, 0, 0, 1, 0, 0, 0],\n",
        "    [0, 0, 0, 1, 1, 0, 0, 0],\n",
        "    [0, 0, 1, 0, 1, 0, 0, 0],\n",
        "    [0, 1, 0, 0, 1, 0, 0, 0],\n",
        "    [0, 0, 0, 0, 1, 0, 0, 0],\n",
        "    [0, 0, 0, 0, 1, 0, 0, 0],\n",
        "    [0, 0, 0, 0, 1, 0, 0, 0],\n",
        "    [0, 1, 1, 1, 1, 1, 1, 0],\n",
        "    [0, 0, 0, 0, 0, 0, 0, 0],\n",
        "])\n",
        "\n",
        "D2 = np.array([\n",
        "    [0, 0, 0, 0, 0, 0, 0, 0],\n",
        "    [0, 0, 1, 1, 1, 1, 0, 0],\n",
        "    [0, 1, 0, 0, 0, 0, 1, 0],\n",
        "    [0, 0, 0, 0, 0, 1, 0, 0],\n",
        "    [0, 0, 1, 1, 1, 1, 0, 0],\n",
        "    [0, 0, 1, 0, 0, 0, 0, 0],\n",
        "    [0, 0, 1, 0, 0, 0, 0, 0],\n",
        "    [0, 0, 1, 1, 1, 1, 1, 0],\n",
        "    [0, 0, 0, 0, 0, 0, 0, 0],\n",
        "])"
      ],
      "metadata": {
        "id": "JM-mT2nvn9x3"
      },
      "execution_count": 38,
      "outputs": []
    },
    {
      "cell_type": "code",
      "source": [
        "D1, D1.ndim, D1.shape"
      ],
      "metadata": {
        "colab": {
          "base_uri": "https://localhost:8080/"
        },
        "id": "S0zluNaopgp7",
        "outputId": "3d27b1fe-b583-46a9-90c9-34aa79cc76ac"
      },
      "execution_count": 40,
      "outputs": [
        {
          "output_type": "execute_result",
          "data": {
            "text/plain": [
              "(array([[0, 0, 0, 0, 1, 0, 0, 0],\n",
              "        [0, 0, 0, 1, 1, 0, 0, 0],\n",
              "        [0, 0, 1, 0, 1, 0, 0, 0],\n",
              "        [0, 1, 0, 0, 1, 0, 0, 0],\n",
              "        [0, 0, 0, 0, 1, 0, 0, 0],\n",
              "        [0, 0, 0, 0, 1, 0, 0, 0],\n",
              "        [0, 0, 0, 0, 1, 0, 0, 0],\n",
              "        [0, 1, 1, 1, 1, 1, 1, 0],\n",
              "        [0, 0, 0, 0, 0, 0, 0, 0]]),\n",
              " 2,\n",
              " (9, 8))"
            ]
          },
          "metadata": {},
          "execution_count": 40
        }
      ]
    },
    {
      "cell_type": "code",
      "source": [
        "D2, D2.ndim, D2.shape"
      ],
      "metadata": {
        "colab": {
          "base_uri": "https://localhost:8080/"
        },
        "id": "JDwFJZf3pmqN",
        "outputId": "54d94beb-6c77-4cba-f591-1d7298de641c"
      },
      "execution_count": 41,
      "outputs": [
        {
          "output_type": "execute_result",
          "data": {
            "text/plain": [
              "(array([[0, 0, 0, 0, 0, 0, 0, 0],\n",
              "        [0, 0, 1, 1, 1, 1, 0, 0],\n",
              "        [0, 1, 0, 0, 0, 0, 1, 0],\n",
              "        [0, 0, 0, 0, 0, 1, 0, 0],\n",
              "        [0, 0, 1, 1, 1, 1, 0, 0],\n",
              "        [0, 0, 1, 0, 0, 0, 0, 0],\n",
              "        [0, 0, 1, 0, 0, 0, 0, 0],\n",
              "        [0, 0, 1, 1, 1, 1, 1, 0],\n",
              "        [0, 0, 0, 0, 0, 0, 0, 0]]),\n",
              " 2,\n",
              " (9, 8))"
            ]
          },
          "metadata": {},
          "execution_count": 41
        }
      ]
    },
    {
      "cell_type": "markdown",
      "source": [
        "Existe una librería llamada **MatplotLib** que permite generar visualizaciones de datos para *numpy*.\n",
        "\n",
        "*Referencia*: [https://matplotlib.org/](https://matplotlib.org/)\n",
        "\n",
        "> Instalación\n",
        "\n",
        "```bash\n",
        "pip install matplotlib\n",
        "```\n",
        "\n",
        "**Nota**: `! pip install matplotlib` en Colab (pero ya viene instalada por defecto)."
      ],
      "metadata": {
        "id": "f6x3qchBpwn9"
      }
    },
    {
      "cell_type": "code",
      "source": [
        "import matplotlib.pyplot as plt\n",
        "\n",
        "plt.imshow(D1)\n",
        "plt.show()\n",
        "\n",
        "plt.imshow(D2, cmap=\"Blues\")\n",
        "plt.show()"
      ],
      "metadata": {
        "colab": {
          "base_uri": "https://localhost:8080/",
          "height": 843
        },
        "id": "kUC3uFHvptUZ",
        "outputId": "c3d24980-899d-4c42-892d-a41c0d6ee491"
      },
      "execution_count": 50,
      "outputs": [
        {
          "output_type": "display_data",
          "data": {
            "text/plain": [
              "<Figure size 640x480 with 1 Axes>"
            ],
            "image/png": "[encoded data removed]"
          },
          "metadata": {}
        },
        {
          "output_type": "display_data",
          "data": {
            "text/plain": [
              "<Figure size 640x480 with 1 Axes>"
            ],
            "image/png": "[encoded data removed]"
          },
          "metadata": {}
        }
      ]
    },
    {
      "cell_type": "code",
      "source": [
        "D1[0, :] # Primera fila"
      ],
      "metadata": {
        "colab": {
          "base_uri": "https://localhost:8080/"
        },
        "id": "qhRBv4lPrC46",
        "outputId": "7fa2ced9-308d-4713-c724-fb0a7d1f70c6"
      },
      "execution_count": 51,
      "outputs": [
        {
          "output_type": "execute_result",
          "data": {
            "text/plain": [
              "array([0, 0, 0, 0, 1, 0, 0, 0])"
            ]
          },
          "metadata": {},
          "execution_count": 51
        }
      ]
    },
    {
      "cell_type": "code",
      "source": [
        "D1[:, 1] # Segunda columna"
      ],
      "metadata": {
        "colab": {
          "base_uri": "https://localhost:8080/"
        },
        "id": "HQ3B9OTFrHKq",
        "outputId": "67a017a6-2be2-4f7c-e514-13d334fbd945"
      },
      "execution_count": 53,
      "outputs": [
        {
          "output_type": "execute_result",
          "data": {
            "text/plain": [
              "array([0, 0, 0, 1, 0, 0, 0, 1, 0])"
            ]
          },
          "metadata": {},
          "execution_count": 53
        }
      ]
    },
    {
      "cell_type": "code",
      "source": [
        "D2[2, :] # Tercera fila"
      ],
      "metadata": {
        "colab": {
          "base_uri": "https://localhost:8080/"
        },
        "id": "6J7hDPaZrQx3",
        "outputId": "15780b8f-09c7-42f2-9e3e-250f3d19422d"
      },
      "execution_count": 54,
      "outputs": [
        {
          "output_type": "execute_result",
          "data": {
            "text/plain": [
              "array([0, 1, 0, 0, 0, 0, 1, 0])"
            ]
          },
          "metadata": {},
          "execution_count": 54
        }
      ]
    },
    {
      "cell_type": "code",
      "source": [
        "D2[:, 2] # Tercera columna"
      ],
      "metadata": {
        "colab": {
          "base_uri": "https://localhost:8080/"
        },
        "id": "5kwpP-3erbU0",
        "outputId": "8bd273bd-4759-45fe-fe5b-5144f9861aee"
      },
      "execution_count": 55,
      "outputs": [
        {
          "output_type": "execute_result",
          "data": {
            "text/plain": [
              "array([0, 1, 0, 0, 1, 1, 1, 1, 0])"
            ]
          },
          "metadata": {},
          "execution_count": 55
        }
      ]
    },
    {
      "cell_type": "markdown",
      "source": [
        "Podemos además de extraer filas y columnas, extraer sub matrices y sub vectores"
      ],
      "metadata": {
        "id": "Wa3jfgYZrlpw"
      }
    },
    {
      "cell_type": "code",
      "source": [
        "D2_sub1 = D2[1:4, 1:4] # Fila 1...3 Columna 1...3\n",
        "\n",
        "D2_sub1"
      ],
      "metadata": {
        "colab": {
          "base_uri": "https://localhost:8080/"
        },
        "id": "vWjL5VNBrlAQ",
        "outputId": "eac5d831-59d0-49d2-fb8d-35f88a458dc5"
      },
      "execution_count": 61,
      "outputs": [
        {
          "output_type": "execute_result",
          "data": {
            "text/plain": [
              "array([[0, 1, 1],\n",
              "       [1, 0, 0],\n",
              "       [0, 0, 0]])"
            ]
          },
          "metadata": {},
          "execution_count": 61
        }
      ]
    },
    {
      "cell_type": "code",
      "source": [
        "plt.imshow(D2_sub1, cmap=\"Blues\")\n",
        "plt.show()"
      ],
      "metadata": {
        "colab": {
          "base_uri": "https://localhost:8080/",
          "height": 435
        },
        "id": "bAaqfIvor6g2",
        "outputId": "3daf6de6-692d-4ca8-bf5c-1158d6f2e498"
      },
      "execution_count": 62,
      "outputs": [
        {
          "output_type": "display_data",
          "data": {
            "text/plain": [
              "<Figure size 640x480 with 1 Axes>"
            ],
            "image/png": "[encoded data removed]"
          },
          "metadata": {}
        }
      ]
    },
    {
      "cell_type": "code",
      "source": [
        "D2_sub2 = D2[0:6, 0:6] # Fila 0...5 Columna 0...5\n",
        "\n",
        "D2_sub2"
      ],
      "metadata": {
        "colab": {
          "base_uri": "https://localhost:8080/"
        },
        "id": "ipgY03IisF-X",
        "outputId": "d7945502-f1a6-42f5-8100-b526c2fb6f31"
      },
      "execution_count": 63,
      "outputs": [
        {
          "output_type": "execute_result",
          "data": {
            "text/plain": [
              "array([[0, 0, 0, 0, 0, 0],\n",
              "       [0, 0, 1, 1, 1, 1],\n",
              "       [0, 1, 0, 0, 0, 0],\n",
              "       [0, 0, 0, 0, 0, 1],\n",
              "       [0, 0, 1, 1, 1, 1],\n",
              "       [0, 0, 1, 0, 0, 0]])"
            ]
          },
          "metadata": {},
          "execution_count": 63
        }
      ]
    },
    {
      "cell_type": "code",
      "source": [
        "plt.imshow(D2_sub2, cmap=\"Blues\")\n",
        "plt.show()"
      ],
      "metadata": {
        "colab": {
          "base_uri": "https://localhost:8080/",
          "height": 430
        },
        "id": "gQwj6FqBsOyw",
        "outputId": "55531759-3072-4590-9a95-fd67418f0762"
      },
      "execution_count": 64,
      "outputs": [
        {
          "output_type": "display_data",
          "data": {
            "text/plain": [
              "<Figure size 640x480 with 1 Axes>"
            ],
            "image/png": "[encoded data removed]"
          },
          "metadata": {}
        }
      ]
    },
    {
      "cell_type": "markdown",
      "source": [
        "## 202 - Series de Pandas (Ejes de datos)"
      ],
      "metadata": {
        "id": "fRZdMf6OskLi"
      }
    },
    {
      "cell_type": "markdown",
      "source": [
        "**Pandas** es una librería basada en *Numpy* que permite manipular grandes volúmenes de datos a través de conceptos sencillos como el de *SERIE* y *DATAFRAME*.\n",
        "\n",
        "*Referencia*: [https://pandas.pydata.org/](https://pandas.pydata.org/)\n",
        "\n",
        "*Pandas* permite adquirir datos desde archivos de TEXTO, CSV, EXCEL y bases de datos SQL y algunos otros orígenes de datos."
      ],
      "metadata": {
        "id": "W2EZ3Z_ks14A"
      }
    },
    {
      "cell_type": "markdown",
      "source": [
        "Una **Serie** de pandas es un eje de datos etiquetado que puede representar la información de una fila o una columna de datos, pero que generalmente se asocia a una columna de datos, es decir, pensamos la *serie de pandas* como una *serie de datos* en general, por ejemplo, una serie que guarda las edades, los precios de productos o las fluctuaciones de la gasolina.\n",
        "\n",
        "Una serie puede ser creada manualemente desde los valores de una lista de python o un arreglo de numpy."
      ],
      "metadata": {
        "id": "vOqmGNrOvao4"
      }
    },
    {
      "cell_type": "code",
      "source": [
        "# Importamos pandas con el alias de `pd`\n",
        "import pandas as pd\n",
        "\n",
        "S1 = pd.Series([8, 9, 7.5, 10, 10, 8, 7, 6, 3])\n",
        "\n",
        "S1"
      ],
      "metadata": {
        "colab": {
          "base_uri": "https://localhost:8080/"
        },
        "id": "jw-I6I0rsqmV",
        "outputId": "5d7b4889-50ac-4e8a-c731-f046f0c0fa6b"
      },
      "execution_count": 65,
      "outputs": [
        {
          "output_type": "execute_result",
          "data": {
            "text/plain": [
              "0     8.0\n",
              "1     9.0\n",
              "2     7.5\n",
              "3    10.0\n",
              "4    10.0\n",
              "5     8.0\n",
              "6     7.0\n",
              "7     6.0\n",
              "8     3.0\n",
              "dtype: float64"
            ]
          },
          "metadata": {},
          "execution_count": 65
        }
      ]
    },
    {
      "cell_type": "markdown",
      "source": [
        "Observemos que las series de pandas a diferencia de los arreglos de numpy se imprimen de una forma más llamativa indicando los valores en cada uno de los índices y el tipo de datos global de la serie."
      ],
      "metadata": {
        "id": "gCvdNh2AwJT0"
      }
    },
    {
      "cell_type": "markdown",
      "source": [
        "Podemos nombrar una serie, para que cuando se reporte o visualice tenga su nombre presente."
      ],
      "metadata": {
        "id": "cAeSye5ywV0Y"
      }
    },
    {
      "cell_type": "code",
      "source": [
        "S1.name = \"Edades\"\n",
        "\n",
        "S1"
      ],
      "metadata": {
        "colab": {
          "base_uri": "https://localhost:8080/"
        },
        "id": "_PRm7WciwT-k",
        "outputId": "f8a7d404-224d-4233-a1fa-95c15d178fb1"
      },
      "execution_count": 66,
      "outputs": [
        {
          "output_type": "execute_result",
          "data": {
            "text/plain": [
              "0     8.0\n",
              "1     9.0\n",
              "2     7.5\n",
              "3    10.0\n",
              "4    10.0\n",
              "5     8.0\n",
              "6     7.0\n",
              "7     6.0\n",
              "8     3.0\n",
              "Name: Edades, dtype: float64"
            ]
          },
          "metadata": {},
          "execution_count": 66
        }
      ]
    },
    {
      "cell_type": "markdown",
      "source": [
        "Observemos que ahora la serie al ser impresa nos muestra su nombre."
      ],
      "metadata": {
        "id": "9an1rmJtwTty"
      }
    },
    {
      "cell_type": "markdown",
      "source": [
        "Los estadísticos fundamentales que podemos extraer de una serie son superiores a los de numpy."
      ],
      "metadata": {
        "id": "WkPvh0nAwlYy"
      }
    },
    {
      "cell_type": "code",
      "source": [
        "S1.min()"
      ],
      "metadata": {
        "colab": {
          "base_uri": "https://localhost:8080/"
        },
        "id": "hwfuiC5KwkXD",
        "outputId": "fa9aa9b7-42aa-4b3a-f26e-701a3614434c"
      },
      "execution_count": 67,
      "outputs": [
        {
          "output_type": "execute_result",
          "data": {
            "text/plain": [
              "3.0"
            ]
          },
          "metadata": {},
          "execution_count": 67
        }
      ]
    },
    {
      "cell_type": "code",
      "source": [
        "S1.max()"
      ],
      "metadata": {
        "colab": {
          "base_uri": "https://localhost:8080/"
        },
        "id": "AdBEbd9wwxMf",
        "outputId": "520611da-b35c-43a0-d521-1e7e0d020928"
      },
      "execution_count": 68,
      "outputs": [
        {
          "output_type": "execute_result",
          "data": {
            "text/plain": [
              "10.0"
            ]
          },
          "metadata": {},
          "execution_count": 68
        }
      ]
    },
    {
      "cell_type": "code",
      "source": [
        "S1.sum()"
      ],
      "metadata": {
        "colab": {
          "base_uri": "https://localhost:8080/"
        },
        "id": "_5P3Y7AiwyY3",
        "outputId": "39de8065-0c71-4d45-a164-19f7e01756c5"
      },
      "execution_count": 69,
      "outputs": [
        {
          "output_type": "execute_result",
          "data": {
            "text/plain": [
              "68.5"
            ]
          },
          "metadata": {},
          "execution_count": 69
        }
      ]
    },
    {
      "cell_type": "code",
      "source": [
        "S1.mean()"
      ],
      "metadata": {
        "colab": {
          "base_uri": "https://localhost:8080/"
        },
        "id": "U7Lo28GNwz8u",
        "outputId": "facd35df-55e9-4c7f-905a-d5ff276193bc"
      },
      "execution_count": 71,
      "outputs": [
        {
          "output_type": "execute_result",
          "data": {
            "text/plain": [
              "7.611111111111111"
            ]
          },
          "metadata": {},
          "execution_count": 71
        }
      ]
    },
    {
      "cell_type": "code",
      "source": [
        "S1.std()"
      ],
      "metadata": {
        "colab": {
          "base_uri": "https://localhost:8080/"
        },
        "id": "qEMChDNQw2bO",
        "outputId": "5bdcb1e1-af96-43ae-b70c-ebe3e45b286a"
      },
      "execution_count": 72,
      "outputs": [
        {
          "output_type": "execute_result",
          "data": {
            "text/plain": [
              "2.1762608095334324"
            ]
          },
          "metadata": {},
          "execution_count": 72
        }
      ]
    },
    {
      "cell_type": "code",
      "source": [
        "S1.var()"
      ],
      "metadata": {
        "colab": {
          "base_uri": "https://localhost:8080/"
        },
        "id": "BfUmCj9Ew4CM",
        "outputId": "14d2e9ac-2c7e-436b-91ab-ed1c15bb09e9"
      },
      "execution_count": 73,
      "outputs": [
        {
          "output_type": "execute_result",
          "data": {
            "text/plain": [
              "4.736111111111111"
            ]
          },
          "metadata": {},
          "execution_count": 73
        }
      ]
    },
    {
      "cell_type": "code",
      "source": [
        "S1.median() # Mediana de los elementos"
      ],
      "metadata": {
        "colab": {
          "base_uri": "https://localhost:8080/"
        },
        "id": "uzBqpG-4w5rq",
        "outputId": "5bbe1ab5-747d-461d-f895-98878f299126"
      },
      "execution_count": 74,
      "outputs": [
        {
          "output_type": "execute_result",
          "data": {
            "text/plain": [
              "8.0"
            ]
          },
          "metadata": {},
          "execution_count": 74
        }
      ]
    },
    {
      "cell_type": "code",
      "source": [
        "S1.count() # Total de elementos"
      ],
      "metadata": {
        "colab": {
          "base_uri": "https://localhost:8080/"
        },
        "id": "epaSBQjBw-JB",
        "outputId": "4548a627-f9a5-4c62-f154-93bcc10a8f0b"
      },
      "execution_count": 75,
      "outputs": [
        {
          "output_type": "execute_result",
          "data": {
            "text/plain": [
              "9"
            ]
          },
          "metadata": {},
          "execution_count": 75
        }
      ]
    },
    {
      "cell_type": "code",
      "source": [
        "S1.unique() # Elementos únicos"
      ],
      "metadata": {
        "colab": {
          "base_uri": "https://localhost:8080/"
        },
        "id": "54s37wOCxCc_",
        "outputId": "ac834a37-cbdc-4532-ee7f-eec566671d3e"
      },
      "execution_count": 87,
      "outputs": [
        {
          "output_type": "execute_result",
          "data": {
            "text/plain": [
              "array([ 8. ,  9. ,  7.5, 10. ,  7. ,  6. ,  3. ])"
            ]
          },
          "metadata": {},
          "execution_count": 87
        }
      ]
    },
    {
      "cell_type": "markdown",
      "source": [
        "Podemos transformar una serie en otra serie a través de `.map(<T>)`"
      ],
      "metadata": {
        "id": "2vpecO9cx7VG"
      }
    },
    {
      "cell_type": "code",
      "source": [
        "S1.map(lambda x: x ** 2)"
      ],
      "metadata": {
        "colab": {
          "base_uri": "https://localhost:8080/"
        },
        "id": "1GhAD3qZx1r9",
        "outputId": "4f50213a-2f8f-4ad2-eb54-71b6b5435374"
      },
      "execution_count": 88,
      "outputs": [
        {
          "output_type": "execute_result",
          "data": {
            "text/plain": [
              "0     64.00\n",
              "1     81.00\n",
              "2     56.25\n",
              "3    100.00\n",
              "4    100.00\n",
              "5     64.00\n",
              "6     49.00\n",
              "7     36.00\n",
              "8      9.00\n",
              "Name: Edades, dtype: float64"
            ]
          },
          "metadata": {},
          "execution_count": 88
        }
      ]
    },
    {
      "cell_type": "markdown",
      "source": [
        " ### Ejemplo 202.1 - Relación entre series\n",
        "\n",
        " Tenemos una serie de datos que almacena las edades de diferentes personas y otra serie de datos que retiene los salarios de cada persona, entonces, queremos construir un indicador de la siguiente manera:\n",
        "\n",
        "$I = \\frac{edad / \\overline{edad}}{2 \\cdot salario_{max} - salario} \\cdot 2 \\cdot (salario_{max} - salario_{min})$"
      ],
      "metadata": {
        "id": "ROsHrsoYyD5b"
      }
    },
    {
      "cell_type": "code",
      "source": [
        "import pandas as pd\n",
        "\n",
        "edades = pd.Series([23, 34, 45, 64, 18, 22, 23], name=\"edades\")\n",
        "salarios = pd.Series([15_000, 38_000, 45_000, 8_000, 18_000, 19_000, 19_000], name=\"salarios\")"
      ],
      "metadata": {
        "id": "qfPpvXgYzw2g"
      },
      "execution_count": 111,
      "outputs": []
    },
    {
      "cell_type": "code",
      "source": [
        "edades"
      ],
      "metadata": {
        "colab": {
          "base_uri": "https://localhost:8080/"
        },
        "id": "zuqqlqkF0I7t",
        "outputId": "d787c377-e752-4f56-89e7-8f0cf73fc77b"
      },
      "execution_count": 112,
      "outputs": [
        {
          "output_type": "execute_result",
          "data": {
            "text/plain": [
              "0    23\n",
              "1    34\n",
              "2    45\n",
              "3    64\n",
              "4    18\n",
              "5    22\n",
              "6    23\n",
              "Name: edades, dtype: int64"
            ]
          },
          "metadata": {},
          "execution_count": 112
        }
      ]
    },
    {
      "cell_type": "code",
      "source": [
        "salarios"
      ],
      "metadata": {
        "colab": {
          "base_uri": "https://localhost:8080/"
        },
        "id": "EWWfbwHD0PsX",
        "outputId": "1a3eaf9f-9e7e-4bee-f27b-5dda838fb707"
      },
      "execution_count": 113,
      "outputs": [
        {
          "output_type": "execute_result",
          "data": {
            "text/plain": [
              "0    15000\n",
              "1    38000\n",
              "2    45000\n",
              "3     8000\n",
              "4    18000\n",
              "5    19000\n",
              "6    19000\n",
              "Name: salarios, dtype: int64"
            ]
          },
          "metadata": {},
          "execution_count": 113
        }
      ]
    },
    {
      "cell_type": "markdown",
      "source": [
        "**Seaborn** es una librería para la visualización de datos optimizada para trabajar con *Series* y *DataFrames* de *Pandas*. Esta librería está basada en *Matplotlib* por lo que funcionan juntas.\n",
        "\n",
        "*Referencia*: [https://seaborn.pydata.org/](https://seaborn.pydata.org/)"
      ],
      "metadata": {
        "id": "J3sWPXR70dXw"
      }
    },
    {
      "cell_type": "markdown",
      "source": [
        "> **Análisis 1D** - Visualizar la serie de datos (`barplot` para ejes discretos)"
      ],
      "metadata": {
        "id": "QRpMdBVk00Vb"
      }
    },
    {
      "cell_type": "code",
      "source": [
        "import seaborn as sns\n",
        "\n",
        "sns.barplot(edades)"
      ],
      "metadata": {
        "colab": {
          "base_uri": "https://localhost:8080/",
          "height": 447
        },
        "id": "roq9J5uG0YuX",
        "outputId": "722c0ea6-d7ad-4b5b-a80e-946e9b2bff9f"
      },
      "execution_count": 114,
      "outputs": [
        {
          "output_type": "execute_result",
          "data": {
            "text/plain": [
              "<Axes: ylabel='edades'>"
            ]
          },
          "metadata": {},
          "execution_count": 114
        },
        {
          "output_type": "display_data",
          "data": {
            "text/plain": [
              "<Figure size 640x480 with 1 Axes>"
            ],
            "image/png": "[encoded data removed]"
          },
          "metadata": {}
        }
      ]
    },
    {
      "cell_type": "markdown",
      "source": [
        "> **Análisis 1D** - Visualizar la serie de datos (`kdeplot` para ejes continuos)"
      ],
      "metadata": {
        "id": "G-E5FZv02JXt"
      }
    },
    {
      "cell_type": "code",
      "source": [
        "sns.kdeplot(salarios)"
      ],
      "metadata": {
        "colab": {
          "base_uri": "https://localhost:8080/",
          "height": 482
        },
        "id": "MEuPS2oC2Od0",
        "outputId": "0ce4c214-e871-4403-ac2f-4bcb401095b0"
      },
      "execution_count": 115,
      "outputs": [
        {
          "output_type": "execute_result",
          "data": {
            "text/plain": [
              "<Axes: xlabel='salarios', ylabel='Density'>"
            ]
          },
          "metadata": {},
          "execution_count": 115
        },
        {
          "output_type": "display_data",
          "data": {
            "text/plain": [
              "<Figure size 640x480 with 1 Axes>"
            ],
            "image/png": "[encoded data removed]"
          },
          "metadata": {}
        }
      ]
    },
    {
      "cell_type": "markdown",
      "source": [
        "> **Análisis 2D** - Visualizar dos series de datos (categórica vs continua)"
      ],
      "metadata": {
        "id": "ivQei4dh3HeZ"
      }
    },
    {
      "cell_type": "code",
      "source": [
        "import seaborn as sns\n",
        "\n",
        "\n",
        "sns.scatterplot(x=edades, y = salarios)"
      ],
      "metadata": {
        "colab": {
          "base_uri": "https://localhost:8080/",
          "height": 466
        },
        "id": "N1Z8AEXd3GE8",
        "outputId": "69dd5b4a-a095-476f-a03b-67aacaa88064"
      },
      "execution_count": 116,
      "outputs": [
        {
          "output_type": "execute_result",
          "data": {
            "text/plain": [
              "<Axes: xlabel='edades', ylabel='salarios'>"
            ]
          },
          "metadata": {},
          "execution_count": 116
        },
        {
          "output_type": "display_data",
          "data": {
            "text/plain": [
              "<Figure size 640x480 with 1 Axes>"
            ],
            "image/png": "[encoded data removed]"
          },
          "metadata": {}
        }
      ]
    },
    {
      "cell_type": "markdown",
      "source": [
        "> **Análisis 2D** - Visualizar dos series de datos (`displot` categórica vs continua)"
      ],
      "metadata": {
        "id": "YMLYX5cG37sk"
      }
    },
    {
      "cell_type": "code",
      "source": [
        "sns.displot(x=edades, y=salarios)"
      ],
      "metadata": {
        "colab": {
          "base_uri": "https://localhost:8080/",
          "height": 523
        },
        "id": "tGXDqOl13Yj7",
        "outputId": "f633edbe-888d-44c0-dd2a-35e5b38c7e58"
      },
      "execution_count": 120,
      "outputs": [
        {
          "output_type": "execute_result",
          "data": {
            "text/plain": [
              "<seaborn.axisgrid.FacetGrid at 0x7d827e7d10f0>"
            ]
          },
          "metadata": {},
          "execution_count": 120
        },
        {
          "output_type": "display_data",
          "data": {
            "text/plain": [
              "<Figure size 500x500 with 1 Axes>"
            ],
            "image/png": "[encoded data removed]"
          },
          "metadata": {}
        }
      ]
    },
    {
      "cell_type": "code",
      "source": [
        "indicadores = (edades / edades.mean()) / (2 * salarios.max() - salarios) * 2 * (salarios.max() - salarios.min())\n",
        "\n",
        "indicadores"
      ],
      "metadata": {
        "colab": {
          "base_uri": "https://localhost:8080/"
        },
        "id": "4ias_blF4EdH",
        "outputId": "6b70ae42-69aa-4ef8-f5e9-660682c65541"
      },
      "execution_count": 121,
      "outputs": [
        {
          "output_type": "execute_result",
          "data": {
            "text/plain": [
              "0    0.693683\n",
              "1    1.479006\n",
              "2    2.262009\n",
              "3    1.765470\n",
              "4    0.565502\n",
              "5    0.700904\n",
              "6    0.732763\n",
              "dtype: float64"
            ]
          },
          "metadata": {},
          "execution_count": 121
        }
      ]
    },
    {
      "cell_type": "markdown",
      "source": [
        "**Análisis de datos 2D + 1D** - Visualizar la correlación entre dos series de datos y la coloración con un eje adicional"
      ],
      "metadata": {
        "id": "exidDxLP4qqT"
      }
    },
    {
      "cell_type": "code",
      "source": [
        "import seaborn as sns\n",
        "\n",
        "sns.displot(x=edades, y=salarios, hue=indicadores)"
      ],
      "metadata": {
        "colab": {
          "base_uri": "https://localhost:8080/",
          "height": 523
        },
        "id": "J_5ubT4a4ZuW",
        "outputId": "6541e60f-70f4-4866-d0ad-cc9515467225"
      },
      "execution_count": 123,
      "outputs": [
        {
          "output_type": "execute_result",
          "data": {
            "text/plain": [
              "<seaborn.axisgrid.FacetGrid at 0x7d8276548340>"
            ]
          },
          "metadata": {},
          "execution_count": 123
        },
        {
          "output_type": "display_data",
          "data": {
            "text/plain": [
              "<Figure size 704.375x500 with 1 Axes>"
            ],
            "image/png": "[encoded data removed]"
          },
          "metadata": {}
        }
      ]
    },
    {
      "cell_type": "markdown",
      "source": [
        "Determinar la correlación entre las edades y el salario"
      ],
      "metadata": {
        "id": "htqfOEZ94411"
      }
    },
    {
      "cell_type": "code",
      "source": [
        "edades.corr(salarios)"
      ],
      "metadata": {
        "colab": {
          "base_uri": "https://localhost:8080/"
        },
        "id": "fW7PCIZo400L",
        "outputId": "6dcb47bd-5788-4a30-c452-313b5406b323"
      },
      "execution_count": 124,
      "outputs": [
        {
          "output_type": "execute_result",
          "data": {
            "text/plain": [
              "0.04037235382356759"
            ]
          },
          "metadata": {},
          "execution_count": 124
        }
      ]
    }
  ]
}