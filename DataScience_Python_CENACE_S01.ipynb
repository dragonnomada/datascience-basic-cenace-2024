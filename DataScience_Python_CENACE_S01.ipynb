{
  "nbformat": 4,
  "nbformat_minor": 0,
  "metadata": {
    "colab": {
      "provenance": []
    },
    "kernelspec": {
      "name": "python3",
      "display_name": "Python 3"
    },
    "language_info": {
      "name": "python"
    }
  },
  "cells": [
    {
      "cell_type": "markdown",
      "source": [
        "# CENACE | Ciencia de Datos con Python\n",
        "\n",
        "## Introducción\n",
        "\n",
        "Aquí la descripción de nuestro proyecto o libreta."
      ],
      "metadata": {
        "id": "rmRgRSfLrY2R"
      }
    },
    {
      "cell_type": "markdown",
      "source": [
        "> Ejemplo de una celda en Python"
      ],
      "metadata": {
        "id": "EItDqMmhrxhp"
      }
    },
    {
      "cell_type": "code",
      "execution_count": 1,
      "metadata": {
        "colab": {
          "base_uri": "https://localhost:8080/"
        },
        "id": "j2_ZxEwcrBfe",
        "outputId": "07e1519b-d9c9-4009-d318-394aad81454c"
      },
      "outputs": [
        {
          "output_type": "stream",
          "name": "stdout",
          "text": [
            "Hola Python 🐍\n"
          ]
        }
      ],
      "source": [
        "print(\"Hola Python 🐍\")"
      ]
    },
    {
      "cell_type": "code",
      "source": [
        "import matplotlib.pyplot as plt\n",
        "import numpy as np\n",
        "\n",
        "x = np.linspace(1, 10, 11)\n",
        "y = x ** 2\n",
        "\n",
        "x, y\n",
        "\n",
        "plt.plot(x, y, \"r--\")\n",
        "plt.show()"
      ],
      "metadata": {
        "colab": {
          "base_uri": "https://localhost:8080/",
          "height": 451
        },
        "id": "HQroqk8zr21_",
        "outputId": "d6eafa47-b1b2-492c-8c91-2a3826e8395b"
      },
      "execution_count": 6,
      "outputs": [
        {
          "output_type": "display_data",
          "data": {
            "text/plain": [
              "<Figure size 640x480 with 1 Axes>"
            ],
            "image/png": "[encoded data removed]"
          },
          "metadata": {}
        }
      ]
    },
    {
      "cell_type": "markdown",
      "source": [
        "## Fundamentos de Python\n",
        "\n",
        "- Variables y tipos de datos\n",
        "- Textos e impresión\n",
        "- Expresiones artiméticas y lógicas\n",
        "- Condicionales (`if` | `while`)\n",
        "- Iteradores y secuencias (`for`)\n",
        "- Colecciones (`list` | `tuple` | `dict`)\n",
        "- Funciones (`def` | `lambda`)\n",
        "- Mapeo y Filtro (`map` | `filter`)"
      ],
      "metadata": {
        "id": "53YzQuKC8G_E"
      }
    },
    {
      "cell_type": "markdown",
      "source": [
        "### Variables y Tipos de datos"
      ],
      "metadata": {
        "id": "SjbkDpr7ABHl"
      }
    },
    {
      "cell_type": "code",
      "source": [
        "# DATO ~= Información singular | REGISTRO (VALOR + ETIQUETA) | VARIABLE (ETIQUETA + VALOR)\n",
        "# Dato: Un valor etiquetado que puede ser procesado\n",
        "# Registro: Un valor etiquetado en un conjunto (valor dependiente o asociado)\n",
        "# Variable: Una etiqueta de memoria que almacena valores (valor independiente)\n",
        "\n",
        "# TIPO BÁSICOS (PRIMITIVOS)\n",
        "\n",
        "nombre = \"Karina Ruíz\"        # Tipo de dato: TEXTO (str) \"...\" | '...'\n",
        "edad = 24                     # Tipo de dato: NÚMERO (int) entero\n",
        "peso = 63.2                   # Tipo de dato: NÚMERO (float) decimal\n",
        "casado = False                # Tipo de dato: LÓGICO (bool) verdadero [True] | falso [False]\n",
        "trabajo = True                # Tipo de dato: LÓGICO (bool) verdadero [True] | falso [False]\n",
        "frecuencia = 123.45 + 67.89j  # Tipo de dato: NÚMERO (complex) complejo"
      ],
      "metadata": {
        "id": "2csdgzRc__Rv"
      },
      "execution_count": 8,
      "outputs": []
    },
    {
      "cell_type": "markdown",
      "source": [
        "__Nota:__ Una variable existe solo hasta que se ejecuta y puede contener cualquier valor soportado por Python"
      ],
      "metadata": {
        "id": "wFI2zS59C9WD"
      }
    },
    {
      "cell_type": "code",
      "source": [
        "nombre"
      ],
      "metadata": {
        "colab": {
          "base_uri": "https://localhost:8080/",
          "height": 56
        },
        "id": "Tu9r8wW3C5_T",
        "outputId": "27b74759-78e2-4114-f578-313d8d89e0ed"
      },
      "execution_count": 9,
      "outputs": [
        {
          "output_type": "execute_result",
          "data": {
            "text/plain": [
              "'Karina Ruíz'"
            ],
            "application/vnd.google.colaboratory.intrinsic+json": {
              "type": "string"
            }
          },
          "metadata": {},
          "execution_count": 9
        }
      ]
    },
    {
      "cell_type": "markdown",
      "source": [
        "Podemos inspeccionar el tipo de dato con `type(<valor|variable>)`"
      ],
      "metadata": {
        "id": "0Z0lCKyoDVBH"
      }
    },
    {
      "cell_type": "code",
      "source": [
        "type(nombre)"
      ],
      "metadata": {
        "colab": {
          "base_uri": "https://localhost:8080/"
        },
        "id": "IUOI1fjvDP5y",
        "outputId": "b6a53b33-9ea7-4f27-91fb-8ac1f72bd633"
      },
      "execution_count": 10,
      "outputs": [
        {
          "output_type": "execute_result",
          "data": {
            "text/plain": [
              "str"
            ]
          },
          "metadata": {},
          "execution_count": 10
        }
      ]
    },
    {
      "cell_type": "code",
      "source": [
        "type(frecuencia)"
      ],
      "metadata": {
        "colab": {
          "base_uri": "https://localhost:8080/"
        },
        "id": "_qYNb0YXDSC_",
        "outputId": "af9a7017-f967-404f-e18a-2a00656cde8e"
      },
      "execution_count": 11,
      "outputs": [
        {
          "output_type": "execute_result",
          "data": {
            "text/plain": [
              "complex"
            ]
          },
          "metadata": {},
          "execution_count": 11
        }
      ]
    },
    {
      "cell_type": "code",
      "source": [
        "type('hola')"
      ],
      "metadata": {
        "colab": {
          "base_uri": "https://localhost:8080/"
        },
        "id": "NTCl0__1Dbp1",
        "outputId": "fd99115b-c22f-47f1-b835-b52275a99580"
      },
      "execution_count": 12,
      "outputs": [
        {
          "output_type": "execute_result",
          "data": {
            "text/plain": [
              "str"
            ]
          },
          "metadata": {},
          "execution_count": 12
        }
      ]
    },
    {
      "cell_type": "markdown",
      "source": [
        "### Texto e impresión"
      ],
      "metadata": {
        "id": "VOFaBysGDghT"
      }
    },
    {
      "cell_type": "code",
      "source": [
        "nombre = \"Project's One\"\n",
        "descripcion = 'Proyecto \"Uno\" de Junio'\n",
        "\n",
        "\n",
        "print(nombre)\n",
        "print(descripcion)"
      ],
      "metadata": {
        "colab": {
          "base_uri": "https://localhost:8080/"
        },
        "id": "FuH1sOIRDfk5",
        "outputId": "3922e4a5-253a-4b96-8182-1bbe5ff61dd3"
      },
      "execution_count": 13,
      "outputs": [
        {
          "output_type": "stream",
          "name": "stdout",
          "text": [
            "Project's One\n",
            "Proyecto \"Uno\" de Junio\n"
          ]
        }
      ]
    },
    {
      "cell_type": "code",
      "source": [
        "print(123 + 456) # print(579) -> 579"
      ],
      "metadata": {
        "colab": {
          "base_uri": "https://localhost:8080/"
        },
        "id": "wKfODS9fD_oZ",
        "outputId": "9a843f7d-3534-40e2-9321-ff9474f24151"
      },
      "execution_count": 14,
      "outputs": [
        {
          "output_type": "stream",
          "name": "stdout",
          "text": [
            "579\n"
          ]
        }
      ]
    },
    {
      "cell_type": "code",
      "source": [
        "nombre = \"Pepe\"\n",
        "edad = 28\n",
        "\n",
        "print(nombre)\n",
        "print(edad)"
      ],
      "metadata": {
        "colab": {
          "base_uri": "https://localhost:8080/"
        },
        "id": "53wiA81SEHMx",
        "outputId": "1596aadd-c3ee-44c8-d2f9-cb0f6f5d0a03"
      },
      "execution_count": 15,
      "outputs": [
        {
          "output_type": "stream",
          "name": "stdout",
          "text": [
            "Pepe\n",
            "28\n"
          ]
        }
      ]
    },
    {
      "cell_type": "code",
      "source": [
        "print(nombre, edad)"
      ],
      "metadata": {
        "colab": {
          "base_uri": "https://localhost:8080/"
        },
        "id": "w1cGDHWqENOc",
        "outputId": "a0c111a6-f73f-4560-ee86-747e353baf3d"
      },
      "execution_count": 16,
      "outputs": [
        {
          "output_type": "stream",
          "name": "stdout",
          "text": [
            "Pepe 28\n"
          ]
        }
      ]
    },
    {
      "cell_type": "code",
      "source": [
        "estatura = 1.7\n",
        "peso = 78.9\n",
        "\n",
        "imc = peso / (estatura ** 2) # p / e^2\n",
        "\n",
        "print(\"Estatura:\", estatura)\n",
        "print(\"Peso:\", peso)\n",
        "print(\"IMC:\", imc)"
      ],
      "metadata": {
        "colab": {
          "base_uri": "https://localhost:8080/"
        },
        "id": "b8e36JyLEQ-h",
        "outputId": "d25557f3-79bc-4c2a-d1e4-a59c533bd996"
      },
      "execution_count": 17,
      "outputs": [
        {
          "output_type": "stream",
          "name": "stdout",
          "text": [
            "Estatura: 1.7\n",
            "Peso: 78.9\n",
            "IMC: 27.30103806228374\n"
          ]
        }
      ]
    },
    {
      "cell_type": "markdown",
      "source": [
        "Podemos generar un texto que contenga el valor del resultado de las variables o expresiones dentro de él.\n",
        "\n",
        "Existe un texto llamado `f-string` que es capaz de incrustar valores dentro del texto mediante una pareja de llaves `{...}` usando una `f` antes de las comillas."
      ],
      "metadata": {
        "id": "9HrHcAs6EvYV"
      }
    },
    {
      "cell_type": "code",
      "source": [
        "reporte1 = f\"Estatura {estatura} metros\"\n",
        "\n",
        "print(reporte1)"
      ],
      "metadata": {
        "colab": {
          "base_uri": "https://localhost:8080/"
        },
        "id": "dTi31o8GEq8N",
        "outputId": "030527d2-e648-4f08-f606-2bb7033a7799"
      },
      "execution_count": 18,
      "outputs": [
        {
          "output_type": "stream",
          "name": "stdout",
          "text": [
            "Estatura 1.7 metros\n"
          ]
        }
      ]
    },
    {
      "cell_type": "code",
      "source": [
        "'{135} + {289} = {135 + 289}' # string"
      ],
      "metadata": {
        "colab": {
          "base_uri": "https://localhost:8080/",
          "height": 56
        },
        "id": "wJgOd7taFNs8",
        "outputId": "366f7f2d-b5b8-4a8f-b8f0-cb4409493fd5"
      },
      "execution_count": 19,
      "outputs": [
        {
          "output_type": "execute_result",
          "data": {
            "text/plain": [
              "'{135} + {289} = {135 + 289}'"
            ],
            "application/vnd.google.colaboratory.intrinsic+json": {
              "type": "string"
            }
          },
          "metadata": {},
          "execution_count": 19
        }
      ]
    },
    {
      "cell_type": "code",
      "source": [
        "f'{135} + {289} = {135 + 289}' # f-string"
      ],
      "metadata": {
        "colab": {
          "base_uri": "https://localhost:8080/",
          "height": 56
        },
        "id": "YSOos-HvFXTN",
        "outputId": "646983a0-418d-4c26-8841-3d3ad2a56b8b"
      },
      "execution_count": 20,
      "outputs": [
        {
          "output_type": "execute_result",
          "data": {
            "text/plain": [
              "'135 + 289 = 424'"
            ],
            "application/vnd.google.colaboratory.intrinsic+json": {
              "type": "string"
            }
          },
          "metadata": {},
          "execution_count": 20
        }
      ]
    },
    {
      "cell_type": "markdown",
      "source": [
        "#### Ejemplo 1 - Generar un reporte que contenga los valores incrutados de una lista de puntos."
      ],
      "metadata": {
        "id": "TkB3szo0FhZj"
      }
    },
    {
      "cell_type": "code",
      "source": [
        "puntos = [\n",
        "    (1, 4),\n",
        "    (5, 7),\n",
        "    (9, 2),\n",
        "    (3, 5),\n",
        "    (2, 2),\n",
        "]\n",
        "\n",
        "print(\"   x     |    y   \")\n",
        "print(\" ------- | ------ \")\n",
        "for x, y in puntos:\n",
        "  print(f\"   {x}     |    {y}   \")"
      ],
      "metadata": {
        "colab": {
          "base_uri": "https://localhost:8080/"
        },
        "id": "TjwF9_IYFgWp",
        "outputId": "036265e4-227d-4910-b903-d88fde1a2a53"
      },
      "execution_count": 26,
      "outputs": [
        {
          "output_type": "stream",
          "name": "stdout",
          "text": [
            "   x     |    y   \n",
            " ------- | ------ \n",
            "   1     |    4   \n",
            "   5     |    7   \n",
            "   9     |    2   \n",
            "   3     |    5   \n",
            "   2     |    2   \n"
          ]
        }
      ]
    },
    {
      "cell_type": "markdown",
      "source": [
        "Existe otro formato más formal que permite definir los espacios y decimales entre los valores."
      ],
      "metadata": {
        "id": "UZPa8fgqGRG7"
      }
    },
    {
      "cell_type": "code",
      "source": [
        "a = 10\n",
        "b = 3\n",
        "c = a / b\n",
        "\n",
        "print(a, b, c)"
      ],
      "metadata": {
        "colab": {
          "base_uri": "https://localhost:8080/"
        },
        "id": "3LlCriOIGXGd",
        "outputId": "35feff07-7bd6-4644-fac8-33bffca3a4c7"
      },
      "execution_count": 27,
      "outputs": [
        {
          "output_type": "stream",
          "name": "stdout",
          "text": [
            "10 3 3.3333333333333335\n"
          ]
        }
      ]
    },
    {
      "cell_type": "code",
      "source": [
        "# Formato: {} | {:<opciones>}\n",
        "# \"...\".format(<valor1>, <valor2>, ...)\n",
        "print(\"A = {:.1f} | B = {:.1f} | C = {:.3f}\".format(a, b, c))"
      ],
      "metadata": {
        "colab": {
          "base_uri": "https://localhost:8080/"
        },
        "id": "T2fSevcXGddO",
        "outputId": "dacf28f1-e8dc-4e74-b23d-37217021100d"
      },
      "execution_count": 28,
      "outputs": [
        {
          "output_type": "stream",
          "name": "stdout",
          "text": [
            "A = 10.0 | B = 3.0 | C = 3.333\n"
          ]
        }
      ]
    },
    {
      "cell_type": "markdown",
      "source": [
        "#### Ejemplo 2 - Generar un reporte que contenga los valores incrutados de una lista de puntos con un formato formal"
      ],
      "metadata": {
        "id": "4SBaYIrRHHLv"
      }
    },
    {
      "cell_type": "code",
      "source": [
        "puntos = [\n",
        "    (1, 4),\n",
        "    (5, 7),\n",
        "    (9, 2),\n",
        "    (3, 5),\n",
        "    (2, 2),\n",
        "]\n",
        "\n",
        "print(\"    x    |    y    \")\n",
        "print(\" --------+-------- \")\n",
        "for x, y in puntos:\n",
        "  print(\" {:^7} | {:^7}\".format(x, y))\n",
        "  # print(\" {:<7} | {:^7}\".format(x, y))\n",
        "  # print(\" {:>7} | {:^7}\".format(x, y))"
      ],
      "metadata": {
        "colab": {
          "base_uri": "https://localhost:8080/"
        },
        "id": "YGLbEjxzHD1q",
        "outputId": "c70ccc25-62a5-4463-f0a1-ea0358926120"
      },
      "execution_count": 33,
      "outputs": [
        {
          "output_type": "stream",
          "name": "stdout",
          "text": [
            "    x    |    y    \n",
            " --------+-------- \n",
            "    1    |    4   \n",
            "    5    |    7   \n",
            "    9    |    2   \n",
            "    3    |    5   \n",
            "    2    |    2   \n"
          ]
        }
      ]
    },
    {
      "cell_type": "markdown",
      "source": [
        "Más documentación: [https://pyformat.info/](https://pyformat.info/)"
      ],
      "metadata": {
        "id": "FfN0YG-NH5Bx"
      }
    },
    {
      "cell_type": "code",
      "source": [
        "a = 123\n",
        "b = 456\n",
        "\n",
        "c = a + b\n",
        "\n",
        "print(c)"
      ],
      "metadata": {
        "colab": {
          "base_uri": "https://localhost:8080/"
        },
        "id": "3-W4zkyoIAfo",
        "outputId": "8ae32e98-4492-4151-86bf-4c47fbc7528e"
      },
      "execution_count": 34,
      "outputs": [
        {
          "output_type": "stream",
          "name": "stdout",
          "text": [
            "579\n"
          ]
        }
      ]
    },
    {
      "cell_type": "markdown",
      "source": [
        "Determinar si el punto $(x, y)$ se encuentra dentro de un circulo de radio $r$ y centro $(h, k)$.\n",
        "\n",
        "Por pitágoras podemos calcular la distancia entre $(x, y)$ y $(h, k)$ y si la distancia es mayor al radio $r$ el punto estará fuera del circulo (no está contenido en ninguna parte de la circunferencia), pero si la distancia es menor o igual al radio, significa que el punto está dentro del circulo.\n",
        "\n",
        "$d = \\sqrt{(x - h)^2 + (y - k)^2}$\n",
        "\n",
        "> Ejemplo de un punto fuera del circulo\n",
        "\n",
        "![fig1](https://www.varsitytutors.com/assets/vt-hotmath-legacy/hotmath_help/topics/shortest-distance-between-a-point-and-a-circle/image3.gif)\n",
        "\n",
        "> Ejemplo de un punto dentro del circulo\n",
        "\n",
        "![fig2](https://www.varsitytutors.com/assets/vt-hotmath-legacy/hotmath_help/topics/shortest-distance-between-a-point-and-a-circle/image4.gif)"
      ],
      "metadata": {
        "id": "jt43xXpJIIP-"
      }
    },
    {
      "cell_type": "code",
      "source": [
        "x = 3\n",
        "y = 4\n",
        "\n",
        "h = 0\n",
        "k = 0\n",
        "\n",
        "r = 3\n",
        "\n",
        "d = ((x - h) ** 2 + (y - k) ** 2) ** 0.5 # La raíz cuadrada equivale al exponente 1/2\n",
        "\n",
        "d <= r # Expresión lógica que devuelve True | False"
      ],
      "metadata": {
        "colab": {
          "base_uri": "https://localhost:8080/"
        },
        "id": "29J1Y7eOIGaS",
        "outputId": "70bb4f12-f381-4440-d94a-fbdad6de37e2"
      },
      "execution_count": 35,
      "outputs": [
        {
          "output_type": "execute_result",
          "data": {
            "text/plain": [
              "False"
            ]
          },
          "metadata": {},
          "execution_count": 35
        }
      ]
    },
    {
      "cell_type": "code",
      "source": [
        "x = float(input(\"Dame X: \"))\n",
        "y = float(input(\"Dame Y: \"))\n",
        "\n",
        "h = float(input(\"Dame H: \"))\n",
        "k = float(input(\"Dame K: \"))\n",
        "\n",
        "r = float(input(\"Dame R: \"))\n",
        "\n",
        "d = ((x - h) ** 2 + (y - k) ** 2) ** 0.5 # La raíz cuadrada equivale al exponente 1/2\n",
        "\n",
        "d <= r"
      ],
      "metadata": {
        "colab": {
          "base_uri": "https://localhost:8080/"
        },
        "id": "hIiGPOOzJmdV",
        "outputId": "70b1a749-30e8-4da6-f731-6829e1542385"
      },
      "execution_count": 36,
      "outputs": [
        {
          "name": "stdout",
          "output_type": "stream",
          "text": [
            "Dame X: -2\n",
            "Dame Y: 2\n",
            "Dame H: 0\n",
            "Dame K: 0\n",
            "Dame R: 6\n"
          ]
        },
        {
          "output_type": "execute_result",
          "data": {
            "text/plain": [
              "True"
            ]
          },
          "metadata": {},
          "execution_count": 36
        }
      ]
    },
    {
      "cell_type": "markdown",
      "source": [
        "Expresiones lógicas"
      ],
      "metadata": {
        "id": "ggxN2FVYKEJL"
      }
    },
    {
      "cell_type": "code",
      "source": [
        "x = 5\n",
        "\n",
        "# Es positivo estricto\n",
        "print(x > 0)\n",
        "\n",
        "# Está en el rango de 1 a 10 (inclusivo)\n",
        "print(x >= 1 and x <= 10)\n",
        "\n",
        "# Está en rango [1, 5) U [6, 10)\n",
        "print((x >= 1 and x < 5) or (x >= 6 and x < 10))\n",
        "\n",
        "# Está en rango (-∞, 5) U (5, ∞) | ~(x = 5)\n",
        "print(not x == 5)"
      ],
      "metadata": {
        "colab": {
          "base_uri": "https://localhost:8080/"
        },
        "id": "MESVKa-hKDvd",
        "outputId": "7958e2b5-1c22-4dd4-c8bf-6a987360dd57"
      },
      "execution_count": 40,
      "outputs": [
        {
          "output_type": "stream",
          "name": "stdout",
          "text": [
            "True\n",
            "True\n",
            "False\n",
            "False\n"
          ]
        }
      ]
    },
    {
      "cell_type": "markdown",
      "source": [
        "### Condicionales (`if` | `while`)"
      ],
      "metadata": {
        "id": "xOhrnphHLBv2"
      }
    },
    {
      "cell_type": "markdown",
      "source": [
        "`if` es una estructura de control que permite ejecutar un bloque de código (conjunto de sentencias)\n",
        "si una condición o valor lógico es verdadero.\n",
        "\n",
        "El bloque se estructura como una secuencia de líneas indentadas después de los dos puntos (`:`).\n",
        "\n",
        "Indentado significa que las líneas comienzan por espacios constantes que marcan un nivel de pertencias, por ejemplo:\n",
        "\n",
        "```\n",
        "<estructura>:\n",
        "  <bloque>\n",
        "\n",
        "<estructura>:\n",
        "  <sentencia 1>\n",
        "  <sentencia 2>\n",
        "  <sentencia 3>\n",
        "  <sentencia ...>\n",
        "  <sentencia N>\n",
        "  <sub-estructura>:\n",
        "    <sub-sentencia 1>\n",
        "    <sub-sentencia 2>\n",
        "    <sub-sentencia 3>\n",
        "    <sub-sentencia ...>\n",
        "    <sub-sentencia M>\n",
        "```\n"
      ],
      "metadata": {
        "id": "Bshh9G7SL-3u"
      }
    },
    {
      "cell_type": "code",
      "source": [
        "# Podemos condicionar la ejecución de un bloque de código mediante `if`\n",
        "# para determinar si el bloque será o no ejecutado basado en una condición\n",
        "\n",
        "x = 10\n",
        "\n",
        "if x > 5:\n",
        "  print(\"La x es mayor estricta a 5\")"
      ],
      "metadata": {
        "colab": {
          "base_uri": "https://localhost:8080/"
        },
        "id": "eCWUG6VNLAHb",
        "outputId": "68e5f97c-97c5-44dd-de7c-6368b949c183"
      },
      "execution_count": 41,
      "outputs": [
        {
          "output_type": "stream",
          "name": "stdout",
          "text": [
            "La x es mayor estricta a 5\n"
          ]
        }
      ]
    },
    {
      "cell_type": "code",
      "source": [
        "x = 5\n",
        "\n",
        "if x > 5:\n",
        "  print(\"La x es mayor estricta a 5\")"
      ],
      "metadata": {
        "id": "KX5JAMeZLZ8U"
      },
      "execution_count": 42,
      "outputs": []
    },
    {
      "cell_type": "markdown",
      "source": [
        "Podemos agregar un caso inverso en caso que la condición no se cumpla, llamado el caso `SINO`."
      ],
      "metadata": {
        "id": "2Sz1WTmJLfmd"
      }
    },
    {
      "cell_type": "code",
      "source": [
        "x = 5\n",
        "\n",
        "if x > 5:\n",
        "  print(\"La x es mayor estricta a 5\")\n",
        "else:\n",
        "  print(\"La x menor o igual a 5\")"
      ],
      "metadata": {
        "colab": {
          "base_uri": "https://localhost:8080/"
        },
        "id": "IBDK7Mb4Lc_B",
        "outputId": "0677b384-47d4-44c9-8670-65802f0f0434"
      },
      "execution_count": 43,
      "outputs": [
        {
          "output_type": "stream",
          "name": "stdout",
          "text": [
            "La x menor o igual a 5\n"
          ]
        }
      ]
    },
    {
      "cell_type": "markdown",
      "source": [
        "### Ejemplo del punto en el circulo"
      ],
      "metadata": {
        "id": "3H0zHYcYMn-J"
      }
    },
    {
      "cell_type": "code",
      "source": [
        "x = 3\n",
        "y = 4\n",
        "\n",
        "h = 0\n",
        "k = 0\n",
        "\n",
        "r = 3\n",
        "\n",
        "d = ((x - h) ** 2 + (y - k) ** 2) ** 0.5 # La raíz cuadrada equivale al exponente 1/2\n",
        "\n",
        "if d <= r:\n",
        "  print(\"El punto está dentro del circulo\")\n",
        "else:\n",
        "  print(\"El punto está fuera del circulo\")"
      ],
      "metadata": {
        "colab": {
          "base_uri": "https://localhost:8080/"
        },
        "id": "mxRmfyw4MkhD",
        "outputId": "56b5cfc4-0edb-40c6-83a8-2b6fbbd35e7f"
      },
      "execution_count": 44,
      "outputs": [
        {
          "output_type": "stream",
          "name": "stdout",
          "text": [
            "El punto está fuera del circulo\n"
          ]
        }
      ]
    },
    {
      "cell_type": "markdown",
      "source": [
        "### Índice de masa corporal\n",
        "\n",
        "$IMC = \\frac{peso}{estatura^2}$"
      ],
      "metadata": {
        "id": "pq2Z3IYgM6bY"
      }
    },
    {
      "cell_type": "code",
      "source": [
        "peso = 80\n",
        "estatura = 1.54\n",
        "\n",
        "imc = peso / estatura ** 2\n",
        "\n",
        "print(\"{:.1f} kg/m^2\".format(imc))\n",
        "\n",
        "if imc < 18.5:\n",
        "  print(\"Bajo de peso\")\n",
        "elif imc >= 18.5 and imc < 25:\n",
        "  print(\"Peso normal\")\n",
        "elif imc >= 25 and imc < 30:\n",
        "  print(\"Sobrepeso\")\n",
        "else:\n",
        "  print(\"Peso excesivo\")"
      ],
      "metadata": {
        "colab": {
          "base_uri": "https://localhost:8080/"
        },
        "id": "DGCKT9TFM5y9",
        "outputId": "9b656df3-b9a3-4570-95b9-0564abcf971b"
      },
      "execution_count": 54,
      "outputs": [
        {
          "output_type": "stream",
          "name": "stdout",
          "text": [
            "33.7 kg/m^2\n",
            "Peso excesivo\n"
          ]
        }
      ]
    },
    {
      "cell_type": "markdown",
      "source": [
        "`while` es una estructura similar a `if` pero que se mantendrá ejecutando un bloque de código mientras la condición sea verdadera. Tras ejecutar el bloque volverá a evaluar si la condición sigue siendo verdadera."
      ],
      "metadata": {
        "id": "DTdvvIT7OB1V"
      }
    },
    {
      "cell_type": "code",
      "source": [
        "limite = 5\n",
        "suma = 0\n",
        "\n",
        "import random\n",
        "\n",
        "contador = 1\n",
        "\n",
        "while suma < limite:\n",
        "  suma += random.uniform(0, 1)\n",
        "  print(contador, suma)\n",
        "  contador = contador + 1 # contador += 1\n",
        "\n",
        "print(\"-\" * 40)\n",
        "print(suma)\n",
        "print(\"Contador:\", contador)"
      ],
      "metadata": {
        "colab": {
          "base_uri": "https://localhost:8080/"
        },
        "id": "rAzr1OQsOBHC",
        "outputId": "4e9046bf-a2bc-4282-8a4f-07c2f7e5446e"
      },
      "execution_count": 79,
      "outputs": [
        {
          "output_type": "stream",
          "name": "stdout",
          "text": [
            "1 0.07469861815676038\n",
            "2 0.3213814164710951\n",
            "3 0.5897894512467299\n",
            "4 1.0758092459964657\n",
            "5 1.0854645674683856\n",
            "6 2.0644615767125485\n",
            "7 2.1175526706527132\n",
            "8 2.3623606423287984\n",
            "9 2.646544172780048\n",
            "10 3.6025871452389326\n",
            "11 3.7057991560967736\n",
            "12 4.470060085453064\n",
            "13 5.376522993357634\n",
            "----------------------------------------\n",
            "5.376522993357634\n",
            "Contador: 14\n"
          ]
        }
      ]
    },
    {
      "cell_type": "markdown",
      "source": [
        "## Iteradores y secuencias (`for`)\n",
        "\n",
        "Una secuencia es un objeto capaz de contener múltiples valores indexados, de tal forma que puedan ser recorridos, por ejemplo, un rango, una lista, una tupla, un diccionario, una función generadora, etc.\n",
        "\n",
        "`for` es una estructura que permite tomar cada elemento en la secuencia para ejecutar un bloque de código, por ejemplo, cada valor en un rango para resolver un algoritmo de suma."
      ],
      "metadata": {
        "id": "9m8pn66RPIvA"
      }
    },
    {
      "cell_type": "code",
      "source": [
        "for x in range(1, 10): # los rangos especifican valores no inclusivos al final\n",
        "  print(x)"
      ],
      "metadata": {
        "colab": {
          "base_uri": "https://localhost:8080/"
        },
        "id": "aD2G3bktPmOf",
        "outputId": "c14b756d-3f1a-4fda-a483-2f48ff8daff8"
      },
      "execution_count": 80,
      "outputs": [
        {
          "output_type": "stream",
          "name": "stdout",
          "text": [
            "1\n",
            "2\n",
            "3\n",
            "4\n",
            "5\n",
            "6\n",
            "7\n",
            "8\n",
            "9\n"
          ]
        }
      ]
    },
    {
      "cell_type": "markdown",
      "source": [
        "### Ejemplo: Calcular la suma de los primeros 100 números enteros\n",
        "\n",
        "$S = 1 + 2 + 3 + ... + 98 + 99 + 100$"
      ],
      "metadata": {
        "id": "iQkqFXGjPlyX"
      }
    },
    {
      "cell_type": "code",
      "source": [
        "suma = 0\n",
        "\n",
        "for n in range(1, 101):\n",
        "  suma = suma + n # suma += n\n",
        "\n",
        "print(suma)"
      ],
      "metadata": {
        "colab": {
          "base_uri": "https://localhost:8080/"
        },
        "id": "yMIncESkP1Cl",
        "outputId": "af74a29a-b686-42ee-d18c-d6eef3728e6d"
      },
      "execution_count": 81,
      "outputs": [
        {
          "output_type": "stream",
          "name": "stdout",
          "text": [
            "5050\n"
          ]
        }
      ]
    },
    {
      "cell_type": "markdown",
      "source": [
        "### Ejemplo: Calcular la suma de los primeros 100 números enteros elevados al cuadrado cada uno\n",
        "\n",
        "$S = 1^2 + 2^2 + 3^2 + ... + 98^2 + 99^2 + 100^2$"
      ],
      "metadata": {
        "id": "Lfxx7ovbQFsL"
      }
    },
    {
      "cell_type": "code",
      "source": [
        "suma = 0\n",
        "\n",
        "for x in range(1, 101):\n",
        "  suma += x ** 2\n",
        "\n",
        "print(suma)"
      ],
      "metadata": {
        "colab": {
          "base_uri": "https://localhost:8080/"
        },
        "id": "eUsyl_96QEcy",
        "outputId": "43e4276e-30b0-4626-cef1-1c595c9dcb3f"
      },
      "execution_count": 82,
      "outputs": [
        {
          "output_type": "stream",
          "name": "stdout",
          "text": [
            "338350\n"
          ]
        }
      ]
    },
    {
      "cell_type": "markdown",
      "source": [
        "> range(a, b) - Rango entre `a` y `b` sin tocar a `b` [a, b)\n",
        "\n",
        "`range` es una función que recibe `a` y `b` como parámetros."
      ],
      "metadata": {
        "id": "K4A8U5pUQk2s"
      }
    },
    {
      "cell_type": "code",
      "source": [
        "list(range(1, 3))"
      ],
      "metadata": {
        "colab": {
          "base_uri": "https://localhost:8080/"
        },
        "id": "HlStBJ6WQY6Y",
        "outputId": "07847e25-a5c1-44fe-ca96-a5e0a0d9e894"
      },
      "execution_count": 84,
      "outputs": [
        {
          "output_type": "execute_result",
          "data": {
            "text/plain": [
              "[1, 2]"
            ]
          },
          "metadata": {},
          "execution_count": 84
        }
      ]
    },
    {
      "cell_type": "code",
      "source": [
        "list(range(1, 11))"
      ],
      "metadata": {
        "colab": {
          "base_uri": "https://localhost:8080/"
        },
        "id": "RtEw5V6SQ4xZ",
        "outputId": "82a70633-0d4d-4669-efd9-62332bf15ef7"
      },
      "execution_count": 86,
      "outputs": [
        {
          "output_type": "execute_result",
          "data": {
            "text/plain": [
              "[1, 2, 3, 4, 5, 6, 7, 8, 9, 10]"
            ]
          },
          "metadata": {},
          "execution_count": 86
        }
      ]
    },
    {
      "cell_type": "code",
      "source": [
        "for x in range(1, 11):\n",
        "  print(\"x=\", x)"
      ],
      "metadata": {
        "colab": {
          "base_uri": "https://localhost:8080/"
        },
        "id": "HlaVaT_AQ_1d",
        "outputId": "edb4a3e2-53f9-47d3-ce41-f86d4792e391"
      },
      "execution_count": 88,
      "outputs": [
        {
          "output_type": "stream",
          "name": "stdout",
          "text": [
            "x= 1\n",
            "x= 2\n",
            "x= 3\n",
            "x= 4\n",
            "x= 5\n",
            "x= 6\n",
            "x= 7\n",
            "x= 8\n",
            "x= 9\n",
            "x= 10\n"
          ]
        }
      ]
    },
    {
      "cell_type": "code",
      "source": [
        "for x in [1, 2, 3, 4, 5, 6, 7, 8, 9, 10]:\n",
        "  print(\"x=\", x) # `x` es el valor en la secuencia"
      ],
      "metadata": {
        "colab": {
          "base_uri": "https://localhost:8080/"
        },
        "id": "IXP9SNpVRHlG",
        "outputId": "66e350dc-7487-4264-ae03-9a6a069876a3"
      },
      "execution_count": 89,
      "outputs": [
        {
          "output_type": "stream",
          "name": "stdout",
          "text": [
            "x= 1\n",
            "x= 2\n",
            "x= 3\n",
            "x= 4\n",
            "x= 5\n",
            "x= 6\n",
            "x= 7\n",
            "x= 8\n",
            "x= 9\n",
            "x= 10\n"
          ]
        }
      ]
    },
    {
      "cell_type": "code",
      "source": [
        "for x in range(1, 11): # NO CONFUNDIR!!! [1, 11)\n",
        "  print(\"x=\", x)"
      ],
      "metadata": {
        "colab": {
          "base_uri": "https://localhost:8080/"
        },
        "id": "rWCdzNp0RW5d",
        "outputId": "9cd7ab0e-fee9-47a7-db92-60660edb791b"
      },
      "execution_count": 90,
      "outputs": [
        {
          "output_type": "stream",
          "name": "stdout",
          "text": [
            "x= 1\n",
            "x= 2\n",
            "x= 3\n",
            "x= 4\n",
            "x= 5\n",
            "x= 6\n",
            "x= 7\n",
            "x= 8\n",
            "x= 9\n",
            "x= 10\n"
          ]
        }
      ]
    },
    {
      "cell_type": "markdown",
      "source": [
        "### Ejemplo: Recorrer una lista de frutas para calcular el número de caracteres de cada fruta"
      ],
      "metadata": {
        "id": "1EHjCcgURu55"
      }
    },
    {
      "cell_type": "code",
      "source": [
        "frutas = [\"manzana\", \"pera\", \"mango\", \"kiwi\", \"fresa\", \"melocotón chino\"]\n",
        "\n",
        "for x in frutas:\n",
        "  print(x)"
      ],
      "metadata": {
        "colab": {
          "base_uri": "https://localhost:8080/"
        },
        "id": "iWgF_zwvR1V4",
        "outputId": "787baffa-bdfb-456e-81bd-24b40ba7ee53"
      },
      "execution_count": 91,
      "outputs": [
        {
          "output_type": "stream",
          "name": "stdout",
          "text": [
            "manzana\n",
            "pera\n",
            "mango\n",
            "kiwi\n",
            "fresa\n",
            "melocotón chino\n"
          ]
        }
      ]
    },
    {
      "cell_type": "code",
      "source": [
        "frutas = [\"manzana\", \"pera\", \"mango\", \"kiwi\", \"fresa\", \"melocotón chino\"]\n",
        "\n",
        "for fruta in frutas:\n",
        "  print(fruta)"
      ],
      "metadata": {
        "colab": {
          "base_uri": "https://localhost:8080/"
        },
        "id": "pVkvuRLbR_ig",
        "outputId": "44d73d04-bbd6-4db5-c9e4-7ce839301df1"
      },
      "execution_count": 92,
      "outputs": [
        {
          "output_type": "stream",
          "name": "stdout",
          "text": [
            "manzana\n",
            "pera\n",
            "mango\n",
            "kiwi\n",
            "fresa\n",
            "melocotón chino\n"
          ]
        }
      ]
    },
    {
      "cell_type": "code",
      "source": [
        "frutas = [\"manzana\", \"pera\", \"mango\", \"kiwi\", \"fresa\", \"melocotón chino\"]\n",
        "\n",
        "for fruta in frutas:\n",
        "  print(fruta, len(fruta)) # len(<texto|secuencia>) - Devuelve el número de elementos"
      ],
      "metadata": {
        "colab": {
          "base_uri": "https://localhost:8080/"
        },
        "id": "GXlY1rIfSIih",
        "outputId": "87e48246-3315-4788-9ea6-3ac6087cb85c"
      },
      "execution_count": 93,
      "outputs": [
        {
          "output_type": "stream",
          "name": "stdout",
          "text": [
            "manzana 7\n",
            "pera 4\n",
            "mango 5\n",
            "kiwi 4\n",
            "fresa 5\n",
            "melocotón chino 15\n"
          ]
        }
      ]
    },
    {
      "cell_type": "markdown",
      "source": [
        "Ejemplo: Recorrer una lista de tuplas"
      ],
      "metadata": {
        "id": "l8vD9sZQTFvS"
      }
    },
    {
      "cell_type": "code",
      "source": [
        "personas = [\n",
        "    (\"Ana\", 34, 1.71, 82.1),\n",
        "    (\"Beto\", 19, 1.61, 85.2),\n",
        "    (\"Carla\", 48, 1.77, 72.5),\n",
        "    (\"Daniel\", 51, 1.45, 63.3),\n",
        "    (\"Edna\", 39, 1.58, 50.7),\n",
        "    (\"Fabián\", 22, 1.72, 70.4),\n",
        "    (\"Gaby\", 26, 1.81, 90.9),\n",
        "]\n",
        "\n",
        "# Lista de 4-tuplas [tupla con 4 elementos exactamente]\n",
        "\n",
        "for persona in personas:\n",
        "  print(persona) # persona -> 4-tupla"
      ],
      "metadata": {
        "colab": {
          "base_uri": "https://localhost:8080/"
        },
        "id": "NCjFhvh9S25X",
        "outputId": "50f707d9-35b5-42ac-e054-f36e79c2d388"
      },
      "execution_count": 98,
      "outputs": [
        {
          "output_type": "stream",
          "name": "stdout",
          "text": [
            "('Ana', 34, 1.71, 82.1)\n",
            "('Beto', 19, 1.61, 85.2)\n",
            "('Carla', 48, 1.77, 72.5)\n",
            "('Daniel', 51, 1.45, 63.3)\n",
            "('Edna', 39, 1.58, 50.7)\n",
            "('Fabián', 22, 1.72, 70.4)\n",
            "('Gaby', 26, 1.81, 90.9)\n"
          ]
        }
      ]
    },
    {
      "cell_type": "code",
      "source": [
        "for a, b, c, d in personas:\n",
        "  print(a, b, c, d)"
      ],
      "metadata": {
        "colab": {
          "base_uri": "https://localhost:8080/"
        },
        "id": "tzpStuwOT02H",
        "outputId": "a76b33ad-d959-4373-bbfd-ee11a75d8d14"
      },
      "execution_count": 99,
      "outputs": [
        {
          "output_type": "stream",
          "name": "stdout",
          "text": [
            "Ana 34 1.71 82.1\n",
            "Beto 19 1.61 85.2\n",
            "Carla 48 1.77 72.5\n",
            "Daniel 51 1.45 63.3\n",
            "Edna 39 1.58 50.7\n",
            "Fabián 22 1.72 70.4\n",
            "Gaby 26 1.81 90.9\n"
          ]
        }
      ]
    },
    {
      "cell_type": "code",
      "source": [
        "for nombre, edad, estatura, peso in personas:\n",
        "  print(nombre, edad, estatura, peso)"
      ],
      "metadata": {
        "colab": {
          "base_uri": "https://localhost:8080/"
        },
        "id": "03CMQHoWT9dZ",
        "outputId": "49133a51-d59e-4b4e-aac2-c38607444976"
      },
      "execution_count": 100,
      "outputs": [
        {
          "output_type": "stream",
          "name": "stdout",
          "text": [
            "Ana 34 1.71 82.1\n",
            "Beto 19 1.61 85.2\n",
            "Carla 48 1.77 72.5\n",
            "Daniel 51 1.45 63.3\n",
            "Edna 39 1.58 50.7\n",
            "Fabián 22 1.72 70.4\n",
            "Gaby 26 1.81 90.9\n"
          ]
        }
      ]
    },
    {
      "cell_type": "code",
      "source": [
        "for nombre, edad, estatura, peso in personas:\n",
        "  print(\n",
        "      \"\"\"\n",
        "      Nombre: {:>27}\n",
        "      Edad: {:>24.0f} años\n",
        "      Estatura / Peso: {:.2f} m / {:.1f} peso\n",
        "      \"\"\".format(nombre, edad, estatura, peso)\n",
        "  )"
      ],
      "metadata": {
        "colab": {
          "base_uri": "https://localhost:8080/"
        },
        "id": "WhBFtoJLUD2y",
        "outputId": "7154fb1e-fb9d-4ceb-85de-b38f2c4bdf03"
      },
      "execution_count": 109,
      "outputs": [
        {
          "output_type": "stream",
          "name": "stdout",
          "text": [
            "\n",
            "      Nombre:                         Ana\n",
            "      Edad:                       34 años\n",
            "      Estatura / Peso: 1.71 m / 82.1 peso\n",
            "      \n",
            "\n",
            "      Nombre:                        Beto\n",
            "      Edad:                       19 años\n",
            "      Estatura / Peso: 1.61 m / 85.2 peso\n",
            "      \n",
            "\n",
            "      Nombre:                       Carla\n",
            "      Edad:                       48 años\n",
            "      Estatura / Peso: 1.77 m / 72.5 peso\n",
            "      \n",
            "\n",
            "      Nombre:                      Daniel\n",
            "      Edad:                       51 años\n",
            "      Estatura / Peso: 1.45 m / 63.3 peso\n",
            "      \n",
            "\n",
            "      Nombre:                        Edna\n",
            "      Edad:                       39 años\n",
            "      Estatura / Peso: 1.58 m / 50.7 peso\n",
            "      \n",
            "\n",
            "      Nombre:                      Fabián\n",
            "      Edad:                       22 años\n",
            "      Estatura / Peso: 1.72 m / 70.4 peso\n",
            "      \n",
            "\n",
            "      Nombre:                        Gaby\n",
            "      Edad:                       26 años\n",
            "      Estatura / Peso: 1.81 m / 90.9 peso\n",
            "      \n"
          ]
        }
      ]
    },
    {
      "cell_type": "code",
      "source": [
        "suma_edad = 0\n",
        "suma_estatura = 0\n",
        "suma_peso = 0\n",
        "\n",
        "for nombre, edad, estatura, peso in personas:\n",
        "  suma_edad += edad\n",
        "  suma_estatura += estatura\n",
        "  suma_peso += peso\n",
        "  print(\n",
        "      \"\"\"\n",
        "      Nombre: {:>27}\n",
        "      Edad: {:>24.0f} años\n",
        "      Estatura / Peso: {:.2f} m / {:.1f} peso\n",
        "      \"\"\".format(nombre, edad, estatura, peso)\n",
        "  )\n",
        "\n",
        "print(\"-\" * 41)\n",
        "\n",
        "print(\"Edad:\", suma_edad, \"|\", suma_edad / len(personas))\n",
        "print(\"Estatura:\", suma_estatura, \"|\", suma_estatura / len(personas))\n",
        "print(\"Peso:\", suma_peso, \"|\", suma_peso / len(personas))"
      ],
      "metadata": {
        "colab": {
          "base_uri": "https://localhost:8080/"
        },
        "id": "Esm7ZEj2Utrh",
        "outputId": "8a1f3666-5ac8-4b87-ea99-99848e63fd57"
      },
      "execution_count": 113,
      "outputs": [
        {
          "output_type": "stream",
          "name": "stdout",
          "text": [
            "\n",
            "      Nombre:                         Ana\n",
            "      Edad:                       34 años\n",
            "      Estatura / Peso: 1.71 m / 82.1 peso\n",
            "      \n",
            "\n",
            "      Nombre:                        Beto\n",
            "      Edad:                       19 años\n",
            "      Estatura / Peso: 1.61 m / 85.2 peso\n",
            "      \n",
            "\n",
            "      Nombre:                       Carla\n",
            "      Edad:                       48 años\n",
            "      Estatura / Peso: 1.77 m / 72.5 peso\n",
            "      \n",
            "\n",
            "      Nombre:                      Daniel\n",
            "      Edad:                       51 años\n",
            "      Estatura / Peso: 1.45 m / 63.3 peso\n",
            "      \n",
            "\n",
            "      Nombre:                        Edna\n",
            "      Edad:                       39 años\n",
            "      Estatura / Peso: 1.58 m / 50.7 peso\n",
            "      \n",
            "\n",
            "      Nombre:                      Fabián\n",
            "      Edad:                       22 años\n",
            "      Estatura / Peso: 1.72 m / 70.4 peso\n",
            "      \n",
            "\n",
            "      Nombre:                        Gaby\n",
            "      Edad:                       26 años\n",
            "      Estatura / Peso: 1.81 m / 90.9 peso\n",
            "      \n",
            "-----------------------------------------\n",
            "Edad: 239 | 34.142857142857146\n",
            "Estatura: 11.650000000000002 | 1.6642857142857146\n",
            "Peso: 515.1 | 73.58571428571429\n"
          ]
        }
      ]
    },
    {
      "cell_type": "markdown",
      "source": [
        "### Colecciones (`list` | `tuple` | `dict`)\n",
        "\n",
        "`list` es una lista de elementos indexados desde el índice `0` que pueden ser accedidos, modificados y extendidos o acortados en el tiempo. Dentro de las funciones principales de una lista tenemos:\n",
        "\n",
        "`<list>.append(<element>)` - Agrega un elemento al final\n",
        "`<list>.insert(<index>, <element>)` - Inserta un elemento en un índice específico (puede causar error) y desplaza los otros elemento\n",
        "`<list>.pop()` Quita el último elemento\n",
        "`<list>.pop(<index>)` - Quita el elemento de un índice (puede causar error)\n",
        "`<list>.remove(<element>)` - Quita el primer elemento que coincida (puede causar error)\n",
        "`<list>.count(<element>)` - Cuenta cuántos de un elemento hay en la lista (repetidos)\n",
        "`len(<list>)` - Devuelve cuántos elementos totales hay en la lista"
      ],
      "metadata": {
        "id": "sq1BxviuZVve"
      }
    },
    {
      "cell_type": "code",
      "source": [
        "frutas = [\"manzana\"]\n",
        "\n",
        "print(frutas)"
      ],
      "metadata": {
        "colab": {
          "base_uri": "https://localhost:8080/"
        },
        "id": "uaWDQnqxZVEg",
        "outputId": "72b52d0b-30f4-4701-8d8e-eb4df91dabf7"
      },
      "execution_count": 114,
      "outputs": [
        {
          "output_type": "stream",
          "name": "stdout",
          "text": [
            "['manzana']\n"
          ]
        }
      ]
    },
    {
      "cell_type": "code",
      "source": [
        "frutas.append(\"pera\")\n",
        "frutas.append(\"mango\")\n",
        "\n",
        "frutas"
      ],
      "metadata": {
        "colab": {
          "base_uri": "https://localhost:8080/"
        },
        "id": "HuddH0uVaezu",
        "outputId": "cbaa87fd-43df-4baf-e01b-9f5d102bb97a"
      },
      "execution_count": 115,
      "outputs": [
        {
          "output_type": "execute_result",
          "data": {
            "text/plain": [
              "['manzana', 'pera', 'mango']"
            ]
          },
          "metadata": {},
          "execution_count": 115
        }
      ]
    },
    {
      "cell_type": "code",
      "source": [
        "frutas.append(\"piña\")\n",
        "\n",
        "frutas"
      ],
      "metadata": {
        "colab": {
          "base_uri": "https://localhost:8080/"
        },
        "id": "zm3llqV7akTw",
        "outputId": "01df51a6-e776-40d3-8b6a-f334bcfc7fb9"
      },
      "execution_count": 116,
      "outputs": [
        {
          "output_type": "execute_result",
          "data": {
            "text/plain": [
              "['manzana', 'pera', 'mango', 'piña']"
            ]
          },
          "metadata": {},
          "execution_count": 116
        }
      ]
    },
    {
      "cell_type": "code",
      "source": [
        "frutas.insert(2, \"papaya\") # [..., \"pera\", \"papaya\", \"mango\", ...]\n",
        "\n",
        "print(frutas)"
      ],
      "metadata": {
        "colab": {
          "base_uri": "https://localhost:8080/"
        },
        "id": "R-2_0l6Zam7t",
        "outputId": "fe9c6ac1-0181-473e-89c0-784308269f37"
      },
      "execution_count": 117,
      "outputs": [
        {
          "output_type": "stream",
          "name": "stdout",
          "text": [
            "['manzana', 'pera', 'papaya', 'mango', 'piña']\n"
          ]
        }
      ]
    },
    {
      "cell_type": "code",
      "source": [
        "frutas.pop() # -> piña\n",
        "\n",
        "frutas"
      ],
      "metadata": {
        "colab": {
          "base_uri": "https://localhost:8080/"
        },
        "id": "1a--goXbavLk",
        "outputId": "e5192740-fbbd-466a-f700-be9672119bac"
      },
      "execution_count": 118,
      "outputs": [
        {
          "output_type": "execute_result",
          "data": {
            "text/plain": [
              "['manzana', 'pera', 'papaya', 'mango']"
            ]
          },
          "metadata": {},
          "execution_count": 118
        }
      ]
    },
    {
      "cell_type": "code",
      "source": [
        "frutas.pop(0) # -> manzana\n",
        "\n",
        "frutas"
      ],
      "metadata": {
        "colab": {
          "base_uri": "https://localhost:8080/"
        },
        "id": "Y0rPSHtHa0p5",
        "outputId": "520f5bb6-df4f-4985-a639-8c8ab55c1428"
      },
      "execution_count": 119,
      "outputs": [
        {
          "output_type": "execute_result",
          "data": {
            "text/plain": [
              "['pera', 'papaya', 'mango']"
            ]
          },
          "metadata": {},
          "execution_count": 119
        }
      ]
    },
    {
      "cell_type": "code",
      "source": [
        "# frutas.remove(\"guayaba\") # Error"
      ],
      "metadata": {
        "id": "47Ljs_RXa5Ze"
      },
      "execution_count": 123,
      "outputs": []
    },
    {
      "cell_type": "code",
      "source": [
        "frutas.count(\"guabaya\")"
      ],
      "metadata": {
        "colab": {
          "base_uri": "https://localhost:8080/"
        },
        "id": "OG0wwEh0a8hP",
        "outputId": "4edcdea5-3428-4836-945f-ef4cd2d46f5f"
      },
      "execution_count": 121,
      "outputs": [
        {
          "output_type": "execute_result",
          "data": {
            "text/plain": [
              "0"
            ]
          },
          "metadata": {},
          "execution_count": 121
        }
      ]
    },
    {
      "cell_type": "code",
      "source": [
        "frutas.count(\"pera\")"
      ],
      "metadata": {
        "colab": {
          "base_uri": "https://localhost:8080/"
        },
        "id": "8tSZsIlUa_rq",
        "outputId": "8126c564-9878-43c2-b7db-15935ad50487"
      },
      "execution_count": 122,
      "outputs": [
        {
          "output_type": "execute_result",
          "data": {
            "text/plain": [
              "1"
            ]
          },
          "metadata": {},
          "execution_count": 122
        }
      ]
    },
    {
      "cell_type": "code",
      "source": [
        "len(frutas)"
      ],
      "metadata": {
        "colab": {
          "base_uri": "https://localhost:8080/"
        },
        "id": "s62xg7NhbFcl",
        "outputId": "272f001b-e25a-4290-fcca-df36f87e4f4a"
      },
      "execution_count": 124,
      "outputs": [
        {
          "output_type": "execute_result",
          "data": {
            "text/plain": [
              "3"
            ]
          },
          "metadata": {},
          "execution_count": 124
        }
      ]
    },
    {
      "cell_type": "markdown",
      "source": [
        "### Ejemplo: Una lista de 100 calificaciones aleatorias entre 5 y 10"
      ],
      "metadata": {
        "id": "vfFTNGcfbKDF"
      }
    },
    {
      "cell_type": "code",
      "source": [
        "import random\n",
        "\n",
        "calificaciones = [] # partimos de una lista vacía\n",
        "\n",
        "for i in range(100): # range => | 0, 1, 2, ..., 97, 98, 99 | = 100\n",
        "  calificacion = random.randint(5, 10)\n",
        "  calificaciones.append(calificacion)\n",
        "\n",
        "print(calificaciones)"
      ],
      "metadata": {
        "colab": {
          "base_uri": "https://localhost:8080/"
        },
        "id": "p_3TryZtbJJn",
        "outputId": "314373d0-dfca-47a8-d4d1-b6e635451ab0"
      },
      "execution_count": 125,
      "outputs": [
        {
          "output_type": "stream",
          "name": "stdout",
          "text": [
            "[5, 10, 5, 10, 7, 7, 5, 6, 10, 7, 6, 9, 5, 10, 5, 9, 6, 9, 6, 10, 8, 8, 7, 9, 10, 10, 8, 8, 10, 6, 9, 7, 8, 6, 8, 5, 8, 7, 6, 5, 6, 7, 8, 8, 10, 8, 7, 5, 5, 6, 6, 9, 5, 9, 9, 10, 7, 5, 6, 5, 5, 5, 5, 6, 8, 10, 8, 6, 6, 8, 6, 9, 10, 8, 7, 8, 7, 5, 6, 6, 5, 8, 8, 5, 7, 5, 6, 10, 9, 9, 9, 10, 6, 6, 5, 10, 9, 7, 10, 7]\n"
          ]
        }
      ]
    },
    {
      "cell_type": "code",
      "source": [
        "sum(calificaciones)"
      ],
      "metadata": {
        "colab": {
          "base_uri": "https://localhost:8080/"
        },
        "id": "lD0CLSL6bvHN",
        "outputId": "7cf330e1-40fd-496d-bdee-16e38160f536"
      },
      "execution_count": 126,
      "outputs": [
        {
          "output_type": "execute_result",
          "data": {
            "text/plain": [
              "731"
            ]
          },
          "metadata": {},
          "execution_count": 126
        }
      ]
    },
    {
      "cell_type": "code",
      "source": [
        "len(calificaciones)"
      ],
      "metadata": {
        "colab": {
          "base_uri": "https://localhost:8080/"
        },
        "id": "3egi7TjSbxa3",
        "outputId": "39ac4252-d2fc-4e6e-aefc-d6e7ad27f42d"
      },
      "execution_count": 127,
      "outputs": [
        {
          "output_type": "execute_result",
          "data": {
            "text/plain": [
              "100"
            ]
          },
          "metadata": {},
          "execution_count": 127
        }
      ]
    },
    {
      "cell_type": "code",
      "source": [
        "sum(calificaciones) / len(calificaciones)"
      ],
      "metadata": {
        "colab": {
          "base_uri": "https://localhost:8080/"
        },
        "id": "xg2h7GyAbzuz",
        "outputId": "abc9ee73-0809-4899-eb06-3918ed365065"
      },
      "execution_count": 128,
      "outputs": [
        {
          "output_type": "execute_result",
          "data": {
            "text/plain": [
              "7.31"
            ]
          },
          "metadata": {},
          "execution_count": 128
        }
      ]
    },
    {
      "cell_type": "code",
      "source": [
        "min(calificaciones)"
      ],
      "metadata": {
        "colab": {
          "base_uri": "https://localhost:8080/"
        },
        "id": "Ox-fmfEDb3RG",
        "outputId": "9628f80f-6360-43b0-8fa8-7c00043b3714"
      },
      "execution_count": 129,
      "outputs": [
        {
          "output_type": "execute_result",
          "data": {
            "text/plain": [
              "5"
            ]
          },
          "metadata": {},
          "execution_count": 129
        }
      ]
    },
    {
      "cell_type": "code",
      "source": [
        "max(calificaciones)"
      ],
      "metadata": {
        "colab": {
          "base_uri": "https://localhost:8080/"
        },
        "id": "94TXmRymb5gR",
        "outputId": "30390bba-cbf4-41fd-a182-1df752997d06"
      },
      "execution_count": 130,
      "outputs": [
        {
          "output_type": "execute_result",
          "data": {
            "text/plain": [
              "10"
            ]
          },
          "metadata": {},
          "execution_count": 130
        }
      ]
    },
    {
      "cell_type": "markdown",
      "source": [
        "Podemos crear una lista dinámica:\n",
        "\n",
        "`<list> = [ <expression> for <element> in <sequence> ]`"
      ],
      "metadata": {
        "id": "MhUcwGA9cN8k"
      }
    },
    {
      "cell_type": "code",
      "source": [
        "x = [ i ** 2 for i in range(1, 11) ]\n",
        "\n",
        "x"
      ],
      "metadata": {
        "colab": {
          "base_uri": "https://localhost:8080/"
        },
        "id": "FbE-Mobtb7Ya",
        "outputId": "e64ed9d1-2d37-452d-9e08-3058e8d8cf1d"
      },
      "execution_count": 133,
      "outputs": [
        {
          "output_type": "execute_result",
          "data": {
            "text/plain": [
              "[1, 4, 9, 16, 25, 36, 49, 64, 81, 100]"
            ]
          },
          "metadata": {},
          "execution_count": 133
        }
      ]
    },
    {
      "cell_type": "code",
      "source": [
        "y = [xi / 4 for xi in x]\n",
        "\n",
        "y"
      ],
      "metadata": {
        "colab": {
          "base_uri": "https://localhost:8080/"
        },
        "id": "zw0D6aQWcPyA",
        "outputId": "df5a5a7b-8e28-463a-f525-8f3476655569"
      },
      "execution_count": 135,
      "outputs": [
        {
          "output_type": "execute_result",
          "data": {
            "text/plain": [
              "[0.25, 1.0, 2.25, 4.0, 6.25, 9.0, 12.25, 16.0, 20.25, 25.0]"
            ]
          },
          "metadata": {},
          "execution_count": 135
        }
      ]
    },
    {
      "cell_type": "markdown",
      "source": [
        "`tuple` es un grupo de valores (valores acoplados) en una misma entidad, esto significa que si agrupamos 2 valores, generaremos una 2-tupla, si agrupamos 3 valores generaremos una 3-tupla.\n",
        "\n",
        "Las tuplas no pueden modificarse y se usan para transportar o almacenar valores fijados."
      ],
      "metadata": {
        "id": "Udv6S394cl3O"
      }
    },
    {
      "cell_type": "code",
      "source": [
        "punto1 = 3, 5 # 2-tupla\n",
        "\n",
        "print(punto1)"
      ],
      "metadata": {
        "colab": {
          "base_uri": "https://localhost:8080/"
        },
        "id": "QVS4LxMCclId",
        "outputId": "a2bd08df-0bfd-4a04-cbb8-6b088df9cee2"
      },
      "execution_count": 136,
      "outputs": [
        {
          "output_type": "stream",
          "name": "stdout",
          "text": [
            "(3, 5)\n"
          ]
        }
      ]
    },
    {
      "cell_type": "code",
      "source": [
        "punto2 = 6, 8, -1 # 3-tupla\n",
        "\n",
        "punto2"
      ],
      "metadata": {
        "colab": {
          "base_uri": "https://localhost:8080/"
        },
        "id": "SN6GbZx8c9R9",
        "outputId": "eb33585f-f63e-442d-b5e0-d52e79e019a6"
      },
      "execution_count": 138,
      "outputs": [
        {
          "output_type": "execute_result",
          "data": {
            "text/plain": [
              "(6, 8, -1)"
            ]
          },
          "metadata": {},
          "execution_count": 138
        }
      ]
    },
    {
      "cell_type": "code",
      "source": [
        "persona1 = (\"George\", 89, 17.1)\n",
        "\n",
        "persona1"
      ],
      "metadata": {
        "colab": {
          "base_uri": "https://localhost:8080/"
        },
        "id": "agxPuC7zdEvy",
        "outputId": "5f252b04-24eb-4edc-97ef-998ca94866d0"
      },
      "execution_count": 139,
      "outputs": [
        {
          "output_type": "execute_result",
          "data": {
            "text/plain": [
              "('George', 89, 17.1)"
            ]
          },
          "metadata": {},
          "execution_count": 139
        }
      ]
    },
    {
      "cell_type": "markdown",
      "source": [
        "Las tuplas pueden desacoplarse (desagruparse) en variables de exactamente el número valores que hayan sido agrupados"
      ],
      "metadata": {
        "id": "3WoU3hrrdN_9"
      }
    },
    {
      "cell_type": "code",
      "source": [
        "x1, y1 = punto1 # 2-tupla\n",
        "x2, y2, z2 = punto2 # 3-tupla\n",
        "nombre, edad, salario = persona1\n",
        "\n",
        "print(x1 ** 2)\n",
        "print(y1 / x1)\n",
        "print(x2 + y2 * z2)\n",
        "print(nombre, edad, salario * 1_000)"
      ],
      "metadata": {
        "colab": {
          "base_uri": "https://localhost:8080/"
        },
        "id": "kfE-CvnPdWlw",
        "outputId": "17cac69a-4df6-4709-f811-33f9d943da72"
      },
      "execution_count": 140,
      "outputs": [
        {
          "output_type": "stream",
          "name": "stdout",
          "text": [
            "9\n",
            "1.6666666666666667\n",
            "-2\n",
            "George 89 17100.0\n"
          ]
        }
      ]
    },
    {
      "cell_type": "markdown",
      "source": [
        "`dict` es un diccionario que indexa valores en claves de texto, permitiendo tener un objeto de acceso a índices más natural, en lugar de decir `<secuencia>[<index>] -> <dict>[<key>]`."
      ],
      "metadata": {
        "id": "74xaN0lEdz0f"
      }
    },
    {
      "cell_type": "code",
      "source": [
        "persona2 = {\n",
        "    \"nombre\": \"George\",\n",
        "    \"edad\": 89,\n",
        "    \"salario\": 17.1\n",
        "}\n",
        "\n",
        "print(persona2)"
      ],
      "metadata": {
        "colab": {
          "base_uri": "https://localhost:8080/"
        },
        "id": "5IID9FaSdypi",
        "outputId": "c424ce73-802d-410e-eee1-6de04441d2d0"
      },
      "execution_count": 141,
      "outputs": [
        {
          "output_type": "stream",
          "name": "stdout",
          "text": [
            "{'nombre': 'George', 'edad': 89, 'salario': 17.1}\n"
          ]
        }
      ]
    },
    {
      "cell_type": "code",
      "source": [
        "persona2[\"nombre\"]"
      ],
      "metadata": {
        "colab": {
          "base_uri": "https://localhost:8080/",
          "height": 56
        },
        "id": "PeiT_iWNeOUg",
        "outputId": "242f870c-369f-47b1-924f-9e37875418a8"
      },
      "execution_count": 142,
      "outputs": [
        {
          "output_type": "execute_result",
          "data": {
            "text/plain": [
              "'George'"
            ],
            "application/vnd.google.colaboratory.intrinsic+json": {
              "type": "string"
            }
          },
          "metadata": {},
          "execution_count": 142
        }
      ]
    },
    {
      "cell_type": "code",
      "source": [
        "persona2[\"edad\"]"
      ],
      "metadata": {
        "colab": {
          "base_uri": "https://localhost:8080/"
        },
        "id": "Z9n0aFvNeQr4",
        "outputId": "f0753553-1aff-4c42-d7be-c91ab73c0d7c"
      },
      "execution_count": 143,
      "outputs": [
        {
          "output_type": "execute_result",
          "data": {
            "text/plain": [
              "89"
            ]
          },
          "metadata": {},
          "execution_count": 143
        }
      ]
    },
    {
      "cell_type": "code",
      "source": [
        "persona2[\"salario\"]"
      ],
      "metadata": {
        "colab": {
          "base_uri": "https://localhost:8080/"
        },
        "id": "U8kZ2youeS13",
        "outputId": "ba4fd9bc-93b7-4616-9f40-3621f7ca7219"
      },
      "execution_count": 144,
      "outputs": [
        {
          "output_type": "execute_result",
          "data": {
            "text/plain": [
              "17.1"
            ]
          },
          "metadata": {},
          "execution_count": 144
        }
      ]
    },
    {
      "cell_type": "code",
      "source": [
        "persona2[\"peso\"] = 68.5"
      ],
      "metadata": {
        "id": "aIcLxldEeVZJ"
      },
      "execution_count": 145,
      "outputs": []
    },
    {
      "cell_type": "code",
      "source": [
        "persona2"
      ],
      "metadata": {
        "colab": {
          "base_uri": "https://localhost:8080/"
        },
        "id": "qnIUH99keZ2H",
        "outputId": "79962fa1-6407-4cb3-bc90-934b0f0c1040"
      },
      "execution_count": 146,
      "outputs": [
        {
          "output_type": "execute_result",
          "data": {
            "text/plain": [
              "{'nombre': 'George', 'edad': 89, 'salario': 17.1, 'peso': 68.5}"
            ]
          },
          "metadata": {},
          "execution_count": 146
        }
      ]
    },
    {
      "cell_type": "markdown",
      "source": [
        "Los diccionarios se parecen a lo que sería un registro o punto de datos (`frame`)."
      ],
      "metadata": {
        "id": "AKV8HjzDedaq"
      }
    },
    {
      "cell_type": "markdown",
      "source": [
        "## Funciones (`def` | `lambda`)\n",
        "\n",
        "Una función es un mecanismo que envuelve entradas para producir una salida (procesamiento | modelo), formalizando un algoritmo o método que puede ser reutilizado para diferentes entradas, resolviendo así una tarea, operación, transacción o proceso."
      ],
      "metadata": {
        "id": "Bo1YHesheqZ0"
      }
    },
    {
      "cell_type": "code",
      "source": [
        "def suma(a, b):\n",
        "  return a + b\n",
        "\n",
        "suma(100, 200)"
      ],
      "metadata": {
        "colab": {
          "base_uri": "https://localhost:8080/"
        },
        "id": "NhStw7j8ec66",
        "outputId": "de04b20a-3f58-4f63-f04a-de8a6c3253cf"
      },
      "execution_count": 147,
      "outputs": [
        {
          "output_type": "execute_result",
          "data": {
            "text/plain": [
              "300"
            ]
          },
          "metadata": {},
          "execution_count": 147
        }
      ]
    },
    {
      "cell_type": "code",
      "source": [
        "suma(456, 789)"
      ],
      "metadata": {
        "colab": {
          "base_uri": "https://localhost:8080/"
        },
        "id": "b3wjVUw2fpZd",
        "outputId": "7059f4fa-fe4e-452f-b92a-998a8b0091c6"
      },
      "execution_count": 148,
      "outputs": [
        {
          "output_type": "execute_result",
          "data": {
            "text/plain": [
              "1245"
            ]
          },
          "metadata": {},
          "execution_count": 148
        }
      ]
    },
    {
      "cell_type": "code",
      "source": [
        "def minmax(lista):\n",
        "  a = min(lista)\n",
        "  b = max(lista)\n",
        "  return (a, b)\n",
        "\n",
        "minmax([9, 1, 4, 3, 2, 5, 6, 8])"
      ],
      "metadata": {
        "colab": {
          "base_uri": "https://localhost:8080/"
        },
        "id": "FJ9GucOHfr4K",
        "outputId": "4750dfed-5ffe-4d39-8e22-14ac6d157a5f"
      },
      "execution_count": 149,
      "outputs": [
        {
          "output_type": "execute_result",
          "data": {
            "text/plain": [
              "(1, 9)"
            ]
          },
          "metadata": {},
          "execution_count": 149
        }
      ]
    },
    {
      "cell_type": "code",
      "source": [
        "minmax([18, 90, 55, 109, 33, 28])"
      ],
      "metadata": {
        "colab": {
          "base_uri": "https://localhost:8080/"
        },
        "id": "FqES7R_gf6-O",
        "outputId": "e7a53caa-1356-4b8d-c8ca-52348e1e5d26"
      },
      "execution_count": 150,
      "outputs": [
        {
          "output_type": "execute_result",
          "data": {
            "text/plain": [
              "(18, 109)"
            ]
          },
          "metadata": {},
          "execution_count": 150
        }
      ]
    },
    {
      "cell_type": "code",
      "source": [
        "import requests\n",
        "\n",
        "# https://www.inegi.org.mx/contenidos/programas/accidentes/microdatos/atus_22_dbf.zip\n",
        "# https://www.inegi.org.mx/contenidos/programas/accidentes/microdatos/atus_21_dbf.zip\n",
        "# https://www.inegi.org.mx/contenidos/programas/accidentes/microdatos/atus_20_dbf.zip\n",
        "# https://www.inegi.org.mx/contenidos/programas/accidentes/microdatos/2019/atus_19_dbf.zip\n",
        "# https://www.inegi.org.mx/contenidos/programas/accidentes/microdatos/2014/atus_14_dbf.zip\n",
        "# https://www.inegi.org.mx/contenidos/programas/accidentes/microdatos/2001/atus_01_dbf.zip\n",
        "# https://www.inegi.org.mx/contenidos/programas/accidentes/microdatos/2000/atus_00_dbf.zip\n",
        "# https://www.inegi.org.mx/contenidos/programas/accidentes/microdatos/1997/atus_97_dbf.zip\n",
        "\n",
        "def download(year):\n",
        "  if year <= 2019:\n",
        "    yy = f\"{year}\"[-2:] # los últimos 2 dígitos\n",
        "    url = f\"https://www.inegi.org.mx/contenidos/programas/accidentes/microdatos/{year}/atus_{yy}_dbf.zip\"\n",
        "  else:\n",
        "    yy = f\"{year}\"[-2:] # los últimos 2 dígitos\n",
        "    url = f\"https://www.inegi.org.mx/contenidos/programas/accidentes/microdatos/atus_{yy}_dbf.zip\"\n",
        "\n",
        "  response = requests.get(url)\n",
        "  content = response.content\n",
        "  print(\"Se descargaron\", len(content), \"bytes\")\n",
        "  with open(f\"{year}_dbf.zip\", \"wb\") as file:\n",
        "    file.write(content)\n",
        "\n",
        "download(2021)"
      ],
      "metadata": {
        "colab": {
          "base_uri": "https://localhost:8080/"
        },
        "id": "kigEhYYQgCZb",
        "outputId": "40df567f-7e9a-45db-ab23-f2c7ff463b09"
      },
      "execution_count": 155,
      "outputs": [
        {
          "output_type": "stream",
          "name": "stdout",
          "text": [
            "Se descargaron 3130442 bytes\n"
          ]
        }
      ]
    },
    {
      "cell_type": "code",
      "source": [
        "for year in range(1997, 2023):\n",
        "  download(year)"
      ],
      "metadata": {
        "colab": {
          "base_uri": "https://localhost:8080/"
        },
        "id": "QPWwcIAchFXl",
        "outputId": "7e0aeb0f-faa8-4fd7-8f89-9522193f5a0c"
      },
      "execution_count": 156,
      "outputs": [
        {
          "output_type": "stream",
          "name": "stdout",
          "text": [
            "Se descargaron 2093731 bytes\n",
            "Se descargaron 2124560 bytes\n",
            "Se descargaron 2046055 bytes\n",
            "Se descargaron 3272706 bytes\n",
            "Se descargaron 2936015 bytes\n",
            "Se descargaron 3239762 bytes\n",
            "Se descargaron 3411163 bytes\n",
            "Se descargaron 3582797 bytes\n",
            "Se descargaron 3661725 bytes\n",
            "Se descargaron 3787733 bytes\n",
            "Se descargaron 3911576 bytes\n",
            "Se descargaron 3823464 bytes\n",
            "Se descargaron 4418405 bytes\n",
            "Se descargaron 3567392 bytes\n",
            "Se descargaron 4028837 bytes\n",
            "Se descargaron 3359817 bytes\n",
            "Se descargaron 3306673 bytes\n",
            "Se descargaron 3712111 bytes\n",
            "Se descargaron 3959252 bytes\n",
            "Se descargaron 3613788 bytes\n",
            "Se descargaron 3628115 bytes\n",
            "Se descargaron 3049007 bytes\n",
            "Se descargaron 3322137 bytes\n",
            "Se descargaron 2900462 bytes\n",
            "Se descargaron 3130442 bytes\n",
            "Se descargaron 3384384 bytes\n"
          ]
        }
      ]
    },
    {
      "cell_type": "markdown",
      "source": [
        "## Mapeos y Filtros (`map` | `filter`)\n",
        "\n",
        "Cuando usamos listas que contienen los valores a procesar los vamos a llamar los **Ejes de datos**, por ejemplo, una lista que contiene las calificaciones de personas o productos podrían ser los ejes de calificaciones para personas o productos, este eje puede tener una distribución, un promedio, una suma, un mínimo, un máximo, etc.\n",
        "\n",
        "Los ejes de datos son ejes de análisis que podemos enfocar para obtener análiticos, por ejemplo, si tengo un eje de datos con las medidas de los tornillos producidos en una empresa, puedo calcular cuál es la desviación estándar y determinar si es mayor o menor al 5%, para así determinar si la producción de tornillos falla más del 5% o en una empresa de venta de productos poder tener un eje con los precios de los productos productos, otro eje con el tipo de producto vendido y otro eje con la reputación del vendedor que vendió el producto."
      ],
      "metadata": {
        "id": "oYMm9-0jixCN"
      }
    },
    {
      "cell_type": "code",
      "source": [
        "productos_tipos = [\"A\", \"A\", \"B\", \"A\", \"C\", \"D\", \"B\", \"A\", \"E\"]\n",
        "productos_precios = [17.88, 19.23, 435.56, 8.67, 201.23, 19.90, 389.12, 43.99, 16.77]\n",
        "productos_vendedor_calif = [5, 4.5, 3.1, 4.9, 5, 2.7, 3.5, 4.3, 4.8]"
      ],
      "metadata": {
        "id": "eKxGkL4firYU"
      },
      "execution_count": 1,
      "outputs": []
    },
    {
      "cell_type": "code",
      "source": [
        "x = [1, 3, 2, 5, 4, 3, 4, 1]\n",
        "\n",
        "x"
      ],
      "metadata": {
        "colab": {
          "base_uri": "https://localhost:8080/"
        },
        "id": "z4MwUB_dkn0N",
        "outputId": "7d9690fd-8bc6-4a7e-a05e-2237c7f7607e"
      },
      "execution_count": 161,
      "outputs": [
        {
          "output_type": "execute_result",
          "data": {
            "text/plain": [
              "[1, 3, 2, 5, 4, 3, 4, 1]"
            ]
          },
          "metadata": {},
          "execution_count": 161
        }
      ]
    },
    {
      "cell_type": "markdown",
      "source": [
        "Mapeo - Es la transformación de un eje de datos ($x$) en otro eje de datos ($y$) a través de una función de transformación $T$\n",
        "\n",
        "> Programación\n",
        "\n",
        "$y = map(T, x)$\n",
        "\n",
        "> Matemáticamente\n",
        "\n",
        "$y = T(x)$"
      ],
      "metadata": {
        "id": "Wnf5ao2dkx5W"
      }
    },
    {
      "cell_type": "code",
      "source": [
        "def T(xi):\n",
        "  return 2 * xi\n",
        "\n",
        "y = map(T, x)\n",
        "\n",
        "x, list(y)"
      ],
      "metadata": {
        "colab": {
          "base_uri": "https://localhost:8080/"
        },
        "id": "hIcpVQqHks9G",
        "outputId": "6fab5bd0-638f-47d4-9fb2-f9e64728f3de"
      },
      "execution_count": 164,
      "outputs": [
        {
          "output_type": "execute_result",
          "data": {
            "text/plain": [
              "([1, 3, 2, 5, 4, 3, 4, 1], [2, 6, 4, 10, 8, 6, 8, 2])"
            ]
          },
          "metadata": {},
          "execution_count": 164
        }
      ]
    },
    {
      "cell_type": "code",
      "source": [
        "y = map(lambda xi: xi * 2, x) # Función lambda: lambda xi: xi * 2 -> def T(xi): return xi * 2\n",
        "\n",
        "list(y)"
      ],
      "metadata": {
        "colab": {
          "base_uri": "https://localhost:8080/"
        },
        "id": "b8vaXwHrmVLO",
        "outputId": "c04feac3-2d0a-49b4-81aa-ad7b7b622019"
      },
      "execution_count": 165,
      "outputs": [
        {
          "output_type": "execute_result",
          "data": {
            "text/plain": [
              "[2, 6, 4, 10, 8, 6, 8, 2]"
            ]
          },
          "metadata": {},
          "execution_count": 165
        }
      ]
    },
    {
      "cell_type": "markdown",
      "source": [
        "### Ejemplo: Análisis de los precios de los productos"
      ],
      "metadata": {
        "id": "Xnm0jU9qmnUv"
      }
    },
    {
      "cell_type": "code",
      "source": [
        "productos_precios"
      ],
      "metadata": {
        "colab": {
          "base_uri": "https://localhost:8080/"
        },
        "id": "5XYL3BPimkGq",
        "outputId": "e0e8ce4b-b2ad-4eea-914d-56ed160d9cd7"
      },
      "execution_count": 166,
      "outputs": [
        {
          "output_type": "execute_result",
          "data": {
            "text/plain": [
              "[17.88, 19.23, 435.56, 8.67, 201.23, 19.9, 389.12, 43.99, 16.77]"
            ]
          },
          "metadata": {},
          "execution_count": 166
        }
      ]
    },
    {
      "cell_type": "code",
      "source": [
        "precio_min = min(productos_precios)\n",
        "precio_max = max(productos_precios)\n",
        "precio_sum = sum(productos_precios)\n",
        "precio_prom = sum(productos_precios) / len(productos_precios)\n",
        "precio_cont = len(productos_precios)\n",
        "\n",
        "print(\"Precio mínimo:\", precio_min)\n",
        "print(\"Precio máximo:\", precio_max)\n",
        "print(\"Precio suma:\", precio_sum)\n",
        "print(\"Precio promedio:\", precio_prom)\n",
        "print(\"Precio conteo:\", precio_cont)"
      ],
      "metadata": {
        "colab": {
          "base_uri": "https://localhost:8080/"
        },
        "id": "LG9KAz4emr3l",
        "outputId": "a7b157c8-76dc-4cef-855b-3c4b7c0e9157"
      },
      "execution_count": 190,
      "outputs": [
        {
          "output_type": "stream",
          "name": "stdout",
          "text": [
            "Precio mínimo: 8.67\n",
            "Precio máximo: 435.56\n",
            "Precio suma: 1152.3500000000001\n",
            "Precio promedio: 128.0388888888889\n",
            "Precio conteo: 9\n"
          ]
        }
      ]
    },
    {
      "cell_type": "code",
      "source": [
        "precios_dif = map(lambda precio: precio - precio_prom, productos_precios)\n",
        "\n",
        "list(precios_dif)"
      ],
      "metadata": {
        "colab": {
          "base_uri": "https://localhost:8080/"
        },
        "id": "fivKGzdInNGR",
        "outputId": "e27853a4-dc34-44f9-f2d6-6ce51207fdb5"
      },
      "execution_count": 191,
      "outputs": [
        {
          "output_type": "execute_result",
          "data": {
            "text/plain": [
              "[-110.1588888888889,\n",
              " -108.80888888888889,\n",
              " 307.5211111111111,\n",
              " -119.36888888888889,\n",
              " 73.1911111111111,\n",
              " -108.13888888888889,\n",
              " 261.0811111111111,\n",
              " -84.04888888888888,\n",
              " -111.2688888888889]"
            ]
          },
          "metadata": {},
          "execution_count": 191
        }
      ]
    },
    {
      "cell_type": "code",
      "source": [
        "precios_dif2 = map(lambda precio: (precio - precio_prom) ** 2, productos_precios)\n",
        "precios_dif2 = [(precio - precio_prom) ** 2 for precio in productos_precios]\n",
        "\n",
        "list(precios_dif2)"
      ],
      "metadata": {
        "colab": {
          "base_uri": "https://localhost:8080/"
        },
        "id": "N42hbdQyn1JJ",
        "outputId": "f0f2f6e5-2e83-4955-8ddd-ef5ba7ea5b16"
      },
      "execution_count": 194,
      "outputs": [
        {
          "output_type": "execute_result",
          "data": {
            "text/plain": [
              "[12134.98080123457,\n",
              " 11839.374301234568,\n",
              " 94569.23377901234,\n",
              " 14248.931634567902,\n",
              " 5356.93874567901,\n",
              " 11694.019290123457,\n",
              " 68163.34657901234,\n",
              " 7064.215723456789,\n",
              " 12380.765634567902]"
            ]
          },
          "metadata": {},
          "execution_count": 194
        }
      ]
    },
    {
      "cell_type": "code",
      "source": [
        "precio_var = sum(precios_dif2) / len(productos_precios)\n",
        "\n",
        "precio_var"
      ],
      "metadata": {
        "colab": {
          "base_uri": "https://localhost:8080/"
        },
        "id": "Nrvc7wFYope4",
        "outputId": "11d950e8-3afd-4d3b-8504-b87b70772f9e"
      },
      "execution_count": 197,
      "outputs": [
        {
          "output_type": "execute_result",
          "data": {
            "text/plain": [
              "26383.53405432099"
            ]
          },
          "metadata": {},
          "execution_count": 197
        }
      ]
    },
    {
      "cell_type": "code",
      "source": [
        "precio_std = precio_var ** 0.5\n",
        "precio_std, 2 * precio_std"
      ],
      "metadata": {
        "colab": {
          "base_uri": "https://localhost:8080/"
        },
        "id": "PHOow_xGpRXR",
        "outputId": "a6d78aa7-e47e-43d7-e009-ff794541918d"
      },
      "execution_count": 200,
      "outputs": [
        {
          "output_type": "execute_result",
          "data": {
            "text/plain": [
              "(162.4300897442373, 324.8601794884746)"
            ]
          },
          "metadata": {},
          "execution_count": 200
        }
      ]
    },
    {
      "cell_type": "markdown",
      "source": [
        "Filtros - Es la selección de un eje de datos ($x$) en otro eje de datos ($x'$) a través de una función de condición $F$ que determina que datos deberían estar en el otro eje.\n",
        "\n",
        "> Programación\n",
        "\n",
        "$x' = filter(F, x)$\n",
        "\n",
        "> Matemáticamente\n",
        "\n",
        "$x' = x | F(x) = 1$"
      ],
      "metadata": {
        "id": "e7gGq2oAplTK"
      }
    },
    {
      "cell_type": "code",
      "source": [
        "x = [1, 2, 3, 4, 5, 6, 1, 2]\n",
        "\n",
        "x"
      ],
      "metadata": {
        "colab": {
          "base_uri": "https://localhost:8080/"
        },
        "id": "GYu9qgIjsYnh",
        "outputId": "f021dc83-560a-448b-ac63-ed0b5c75f328"
      },
      "execution_count": 6,
      "outputs": [
        {
          "output_type": "execute_result",
          "data": {
            "text/plain": [
              "[1, 2, 3, 4, 5, 6, 1, 2]"
            ]
          },
          "metadata": {},
          "execution_count": 6
        }
      ]
    },
    {
      "cell_type": "code",
      "source": [
        "xp = filter(lambda xi: xi <= 3, x)\n",
        "\n",
        "list(xp)"
      ],
      "metadata": {
        "colab": {
          "base_uri": "https://localhost:8080/"
        },
        "id": "X0qxgcs6sdb3",
        "outputId": "85098f5f-2ac8-4872-a004-e2ca91826a4f"
      },
      "execution_count": 7,
      "outputs": [
        {
          "output_type": "execute_result",
          "data": {
            "text/plain": [
              "[1, 2, 3, 1, 2]"
            ]
          },
          "metadata": {},
          "execution_count": 7
        }
      ]
    },
    {
      "cell_type": "code",
      "source": [
        "precios = [99, 105, 23, 48, 60, 72]\n",
        "\n",
        "sum(precios)"
      ],
      "metadata": {
        "colab": {
          "base_uri": "https://localhost:8080/"
        },
        "id": "KOos0cCosv32",
        "outputId": "5a1e0893-cbea-465a-e7e2-cead26f483c5"
      },
      "execution_count": 8,
      "outputs": [
        {
          "output_type": "execute_result",
          "data": {
            "text/plain": [
              "407"
            ]
          },
          "metadata": {},
          "execution_count": 8
        }
      ]
    },
    {
      "cell_type": "code",
      "source": [
        "list(filter(lambda precio: precio <= 50, precios))"
      ],
      "metadata": {
        "colab": {
          "base_uri": "https://localhost:8080/"
        },
        "id": "SAepdLtstI63",
        "outputId": "da4e04dd-00b4-40e2-fda1-aa0828c38ed6"
      },
      "execution_count": 12,
      "outputs": [
        {
          "output_type": "execute_result",
          "data": {
            "text/plain": [
              "[23, 48]"
            ]
          },
          "metadata": {},
          "execution_count": 12
        }
      ]
    },
    {
      "cell_type": "code",
      "source": [
        "sum(filter(lambda precio: precio <= 50, precios))"
      ],
      "metadata": {
        "colab": {
          "base_uri": "https://localhost:8080/"
        },
        "id": "injgZBMms3h4",
        "outputId": "8eeab359-388b-4191-a810-498181df9de1"
      },
      "execution_count": 10,
      "outputs": [
        {
          "output_type": "execute_result",
          "data": {
            "text/plain": [
              "71"
            ]
          },
          "metadata": {},
          "execution_count": 10
        }
      ]
    },
    {
      "cell_type": "code",
      "source": [
        "list(filter(lambda precio: precio > 50, precios))"
      ],
      "metadata": {
        "colab": {
          "base_uri": "https://localhost:8080/"
        },
        "id": "g8ZBT-IZtMKp",
        "outputId": "8f37b576-cde9-4f73-b338-01ec4ffb6838"
      },
      "execution_count": 13,
      "outputs": [
        {
          "output_type": "execute_result",
          "data": {
            "text/plain": [
              "[99, 105, 60, 72]"
            ]
          },
          "metadata": {},
          "execution_count": 13
        }
      ]
    },
    {
      "cell_type": "code",
      "source": [
        "sum(filter(lambda precio: precio > 50, precios))"
      ],
      "metadata": {
        "colab": {
          "base_uri": "https://localhost:8080/"
        },
        "id": "tBg0SlBbtCkY",
        "outputId": "34643431-671d-4a6e-e69e-2462a254f8eb"
      },
      "execution_count": 11,
      "outputs": [
        {
          "output_type": "execute_result",
          "data": {
            "text/plain": [
              "336"
            ]
          },
          "metadata": {},
          "execution_count": 11
        }
      ]
    },
    {
      "cell_type": "code",
      "source": [
        "productos_tipos"
      ],
      "metadata": {
        "colab": {
          "base_uri": "https://localhost:8080/"
        },
        "id": "qAbNUnYYpkqA",
        "outputId": "bff7c3fe-8874-4ab4-e982-50e2fe78773f"
      },
      "execution_count": 201,
      "outputs": [
        {
          "output_type": "execute_result",
          "data": {
            "text/plain": [
              "['A', 'A', 'B', 'A', 'C', 'D', 'B', 'A', 'E']"
            ]
          },
          "metadata": {},
          "execution_count": 201
        }
      ]
    },
    {
      "cell_type": "code",
      "source": [
        "productos_a = filter(lambda tipo: tipo == 'A', productos_tipos)\n",
        "\n",
        "list(productos_a)"
      ],
      "metadata": {
        "colab": {
          "base_uri": "https://localhost:8080/"
        },
        "id": "i9PakY36qx01",
        "outputId": "f90e621d-b394-4b59-9850-98b2c51a0d9b"
      },
      "execution_count": 20,
      "outputs": [
        {
          "output_type": "execute_result",
          "data": {
            "text/plain": [
              "['A', 'A', 'A', 'A']"
            ]
          },
          "metadata": {},
          "execution_count": 20
        }
      ]
    },
    {
      "cell_type": "code",
      "source": [
        "len(list(productos_a))"
      ],
      "metadata": {
        "colab": {
          "base_uri": "https://localhost:8080/"
        },
        "id": "0DYLI1tUtbpN",
        "outputId": "69cd8b3d-ac06-46c5-883b-5c64de6874cc"
      },
      "execution_count": 19,
      "outputs": [
        {
          "output_type": "execute_result",
          "data": {
            "text/plain": [
              "0"
            ]
          },
          "metadata": {},
          "execution_count": 19
        }
      ]
    },
    {
      "cell_type": "code",
      "source": [
        "x = [1, 2, 3, 4, 5, 6, 7] # Eje 1\n",
        "y = [6, 5, 4, 3, 1, 1, 2] # Eje 2\n",
        "z = [9, 9, 5, 3, 2, 1, 3] # Eje 3\n",
        "\n",
        "T = zip(x, y, z) # datalist (lista de frames)\n",
        "\n",
        "list(T)"
      ],
      "metadata": {
        "colab": {
          "base_uri": "https://localhost:8080/"
        },
        "id": "z5hnBcrtq-vh",
        "outputId": "bb0a9bda-d795-4b30-8649-e19201901ced"
      },
      "execution_count": 2,
      "outputs": [
        {
          "output_type": "execute_result",
          "data": {
            "text/plain": [
              "[(1, 6, 9), (2, 5, 9), (3, 4, 5), (4, 3, 3), (5, 1, 2), (6, 1, 1), (7, 2, 3)]"
            ]
          },
          "metadata": {},
          "execution_count": 2
        }
      ]
    },
    {
      "cell_type": "code",
      "source": [
        "Tp1 = filter(lambda t: t[2] == 9, T)\n",
        "\n",
        "for t in Tp1:\n",
        "  print(t)"
      ],
      "metadata": {
        "id": "Bhkuiqn8rmth"
      },
      "execution_count": 5,
      "outputs": []
    },
    {
      "cell_type": "code",
      "source": [],
      "metadata": {
        "id": "q-MmSeRtsWME"
      },
      "execution_count": null,
      "outputs": []
    }
  ]
}