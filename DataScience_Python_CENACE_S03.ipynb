{
  "nbformat": 4,
  "nbformat_minor": 0,
  "metadata": {
    "colab": {
      "provenance": []
    },
    "kernelspec": {
      "name": "python3",
      "display_name": "Python 3"
    },
    "language_info": {
      "name": "python"
    }
  },
  "cells": [
    {
      "cell_type": "markdown",
      "source": [
        "# S03 - **A**dquisición de Datos\n",
        "\n",
        "**A**dquisición\n",
        "\n",
        "    La adquisición de datos consiste en identificar\n",
        "    el origen de los datos, para poder implementar\n",
        "    un método de extracción que nos permita recuperar\n",
        "    los datos y mediante un mecanismo de reserva\n",
        "    poder formar un conjunto de datos llamado\n",
        "    el DATASET FUENTE\n",
        "\n",
        "**L**impieza\n",
        "\n",
        "**E**structuración\n",
        "\n",
        "**P**rocesamiento\n",
        "\n",
        "**V**isualización\n",
        "\n",
        "**A**utomatización"
      ],
      "metadata": {
        "id": "Y6yusbL99Fzu"
      }
    },
    {
      "cell_type": "markdown",
      "source": [
        "### Origen TEXT - Cargar datos desde un archivo de texto"
      ],
      "metadata": {
        "id": "HYSS-hgG9-Sb"
      }
    },
    {
      "cell_type": "code",
      "source": [
        "# with <resource> as <name>:\n",
        "#    ... usar el recurso <name>\n",
        "#    <content> = <name>.read()\n",
        "\n",
        "with open(\"/content/conversaciones.txt\") as file:\n",
        "  content = file.read()\n",
        "  print(content)"
      ],
      "metadata": {
        "colab": {
          "base_uri": "https://localhost:8080/"
        },
        "id": "aj_TmrS1AD3L",
        "outputId": "80459728-c705-44be-cf99-5772b34089ac"
      },
      "execution_count": 5,
      "outputs": [
        {
          "output_type": "stream",
          "name": "stdout",
          "text": [
            "Información de una conversación\n",
            "\n",
            "[2024-06-01 14:25] Hola me llamo Ada y necesito un diseñador con 2 años de experiencia para un proyecto de 3 meses. El sueldo es por $15,000 MXN por el proyecto\n",
            "\n",
            "[2024-06-01 18:23] Soy Paco y necesito un programador con 15 años de experiencia para un proyecto de 6 meses, con un sueldo de $9,000 MXN mensual\n",
            "\n",
            "[2024-06-03 13:42] Yo soy Luis y necesito un asistente sin experiencia para un proyecto de 2 meses, con un sueldo de $8,000 MXN bimestral\n"
          ]
        }
      ]
    },
    {
      "cell_type": "code",
      "source": [
        "# Forma clásica\n",
        "# ADVERTENCIA: No olvides cerrar el archivo abierto\n",
        "file = open(\"/content/conversaciones.txt\")\n",
        "\n",
        "content = file.read()\n",
        "\n",
        "file.close()\n",
        "\n",
        "print(content)"
      ],
      "metadata": {
        "colab": {
          "base_uri": "https://localhost:8080/"
        },
        "id": "cP-ysuHEAatj",
        "outputId": "b7b28043-c394-4342-e015-f55984e4338c"
      },
      "execution_count": 11,
      "outputs": [
        {
          "output_type": "stream",
          "name": "stdout",
          "text": [
            "Información de una conversación\n",
            "\n",
            "[2024-06-01 14:25] Hola me llamo Ada y necesito un diseñador con 2 años de experiencia para un proyecto de 3 meses. El sueldo es por $15,000 MXN por el proyecto\n",
            "\n",
            "[2024-06-01 18:23] Soy Paco y necesito un programador con 15 años de experiencia para un proyecto de 6 meses, con un sueldo de $9,000 MXN mensual\n",
            "\n",
            "[2024-06-03 13:42] Yo soy Luis y necesito un asistente sin experiencia para un proyecto de 2 meses, con un sueldo de $8,000 MXN bimestral\n"
          ]
        }
      ]
    },
    {
      "cell_type": "code",
      "source": [
        "# Content se carga dentro de with y queda disponible el resto del programa\n",
        "with open(\"/content/conversaciones.txt\") as file:\n",
        "  content = file.read()\n",
        "\n",
        "print(content)"
      ],
      "metadata": {
        "colab": {
          "base_uri": "https://localhost:8080/"
        },
        "id": "Fy3L-3QMA76Z",
        "outputId": "a386b8f6-64f6-4bad-a2cd-b1bd458e0b37"
      },
      "execution_count": 12,
      "outputs": [
        {
          "output_type": "stream",
          "name": "stdout",
          "text": [
            "Información de una conversación\n",
            "\n",
            "[2024-06-01 14:25] Hola me llamo Ada y necesito un diseñador con 2 años de experiencia para un proyecto de 3 meses. El sueldo es por $15,000 MXN por el proyecto\n",
            "\n",
            "[2024-06-01 18:23] Soy Paco y necesito un programador con 15 años de experiencia para un proyecto de 6 meses, con un sueldo de $9,000 MXN mensual\n",
            "\n",
            "[2024-06-03 13:42] Yo soy Luis y necesito un asistente sin experiencia para un proyecto de 2 meses, con un sueldo de $8,000 MXN bimestral\n"
          ]
        }
      ]
    },
    {
      "cell_type": "code",
      "source": [
        "content"
      ],
      "metadata": {
        "colab": {
          "base_uri": "https://localhost:8080/",
          "height": 104
        },
        "id": "CNIMawT5BKe4",
        "outputId": "2865b058-422f-42d0-aac9-2b65b1fa1382"
      },
      "execution_count": 13,
      "outputs": [
        {
          "output_type": "execute_result",
          "data": {
            "text/plain": [
              "'Información de una conversación\\n\\n[2024-06-01 14:25] Hola me llamo Ada y necesito un diseñador con 2 años de experiencia para un proyecto de 3 meses. El sueldo es por $15,000 MXN por el proyecto\\n\\n[2024-06-01 18:23] Soy Paco y necesito un programador con 15 años de experiencia para un proyecto de 6 meses, con un sueldo de $9,000 MXN mensual\\n\\n[2024-06-03 13:42] Yo soy Luis y necesito un asistente sin experiencia para un proyecto de 2 meses, con un sueldo de $8,000 MXN bimestral'"
            ],
            "application/vnd.google.colaboratory.intrinsic+json": {
              "type": "string"
            }
          },
          "metadata": {},
          "execution_count": 13
        }
      ]
    },
    {
      "cell_type": "code",
      "source": [
        "content.split(\"\\n\\n\")"
      ],
      "metadata": {
        "colab": {
          "base_uri": "https://localhost:8080/"
        },
        "id": "bHZ_cVkRBPnT",
        "outputId": "77238fd6-dd32-477e-be03-4e83c89e6d5b"
      },
      "execution_count": 14,
      "outputs": [
        {
          "output_type": "execute_result",
          "data": {
            "text/plain": [
              "['Información de una conversación',\n",
              " '[2024-06-01 14:25] Hola me llamo Ada y necesito un diseñador con 2 años de experiencia para un proyecto de 3 meses. El sueldo es por $15,000 MXN por el proyecto',\n",
              " '[2024-06-01 18:23] Soy Paco y necesito un programador con 15 años de experiencia para un proyecto de 6 meses, con un sueldo de $9,000 MXN mensual',\n",
              " '[2024-06-03 13:42] Yo soy Luis y necesito un asistente sin experiencia para un proyecto de 2 meses, con un sueldo de $8,000 MXN bimestral']"
            ]
          },
          "metadata": {},
          "execution_count": 14
        }
      ]
    },
    {
      "cell_type": "code",
      "source": [
        "import re\n",
        "\n",
        "for g in re.finditer(\"\\[([^\\]]*)\\]\\s*([^\\n]+)\", content):\n",
        "  #print(g)\n",
        "  date = g.group(1)\n",
        "  text = g.group(2)\n",
        "  print(\"FECHA:\", date)\n",
        "  print(\"TEXT:\", text)\n",
        "  print(\"-\" * 80)"
      ],
      "metadata": {
        "colab": {
          "base_uri": "https://localhost:8080/"
        },
        "id": "0VcErsudBlMt",
        "outputId": "78d4714d-954e-4e04-d00d-b30f6fa1addc"
      },
      "execution_count": 20,
      "outputs": [
        {
          "output_type": "stream",
          "name": "stdout",
          "text": [
            "FECHA: 2024-06-01 14:25\n",
            "TEXT: Hola me llamo Ada y necesito un diseñador con 2 años de experiencia para un proyecto de 3 meses. El sueldo es por $15,000 MXN por el proyecto\n",
            "--------------------------------------------------------------------------------\n",
            "FECHA: 2024-06-01 18:23\n",
            "TEXT: Soy Paco y necesito un programador con 15 años de experiencia para un proyecto de 6 meses, con un sueldo de $9,000 MXN mensual\n",
            "--------------------------------------------------------------------------------\n",
            "FECHA: 2024-06-03 13:42\n",
            "TEXT: Yo soy Luis y necesito un asistente sin experiencia para un proyecto de 2 meses, con un sueldo de $8,000 MXN bimestral\n",
            "--------------------------------------------------------------------------------\n"
          ]
        }
      ]
    },
    {
      "cell_type": "markdown",
      "source": [
        "### Origen CSV"
      ],
      "metadata": {
        "id": "sBt8B2XyCUql"
      }
    },
    {
      "cell_type": "markdown",
      "source": [
        "### Origen Excel (Libro > Hoja)"
      ],
      "metadata": {
        "id": "HO1OfuKQCXBR"
      }
    },
    {
      "cell_type": "markdown",
      "source": [
        "### Origen API (HTML | JSON)"
      ],
      "metadata": {
        "id": "dT-NrEehCbOL"
      }
    }
  ]
}